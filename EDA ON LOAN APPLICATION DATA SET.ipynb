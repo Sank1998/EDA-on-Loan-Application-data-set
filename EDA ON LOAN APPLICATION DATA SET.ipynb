{
 "cells": [
  {
   "cell_type": "markdown",
   "id": "83361107",
   "metadata": {},
   "source": [
    "# EDA ON LOAN APPLICATION DATA SET"
   ]
  },
  {
   "cell_type": "markdown",
   "id": "e99d04f2",
   "metadata": {},
   "source": [
    "Pandas is a Python toolkit for data manipulation and analysis.\n",
    "\n",
    "Matplotlib is used for data visualiztion "
   ]
  },
  {
   "cell_type": "code",
   "execution_count": 1,
   "id": "486cec18",
   "metadata": {},
   "outputs": [],
   "source": [
    "#importing the pandas and matplotlib libraries for the exploratory data analysis on the choosen dataset\n",
    "import pandas as pd\n",
    "import matplotlib.pyplot as plt"
   ]
  },
  {
   "cell_type": "code",
   "execution_count": 2,
   "id": "7ef03ec2",
   "metadata": {
    "scrolled": true
   },
   "outputs": [
    {
     "data": {
      "text/html": [
       "<div>\n",
       "<style scoped>\n",
       "    .dataframe tbody tr th:only-of-type {\n",
       "        vertical-align: middle;\n",
       "    }\n",
       "\n",
       "    .dataframe tbody tr th {\n",
       "        vertical-align: top;\n",
       "    }\n",
       "\n",
       "    .dataframe thead th {\n",
       "        text-align: right;\n",
       "    }\n",
       "</style>\n",
       "<table border=\"1\" class=\"dataframe\">\n",
       "  <thead>\n",
       "    <tr style=\"text-align: right;\">\n",
       "      <th></th>\n",
       "      <th>married</th>\n",
       "      <th>race</th>\n",
       "      <th>loan_decision</th>\n",
       "      <th>occupancy</th>\n",
       "      <th>loan_amount</th>\n",
       "      <th>applicant_income</th>\n",
       "      <th>num_units</th>\n",
       "      <th>num_dependants</th>\n",
       "      <th>self_employed</th>\n",
       "      <th>monthly_income</th>\n",
       "      <th>purchase_price</th>\n",
       "      <th>liquid_assets</th>\n",
       "      <th>mortage_payment_history</th>\n",
       "      <th>consumer_credit_history</th>\n",
       "      <th>filed_bankruptcy</th>\n",
       "      <th>property_type</th>\n",
       "      <th>gender</th>\n",
       "    </tr>\n",
       "  </thead>\n",
       "  <tbody>\n",
       "    <tr>\n",
       "      <th>0</th>\n",
       "      <td>True</td>\n",
       "      <td>white</td>\n",
       "      <td>reject</td>\n",
       "      <td>1</td>\n",
       "      <td>128</td>\n",
       "      <td>74</td>\n",
       "      <td>1.0</td>\n",
       "      <td>1.0</td>\n",
       "      <td>False</td>\n",
       "      <td>4583</td>\n",
       "      <td>160.0</td>\n",
       "      <td>52.0</td>\n",
       "      <td>2</td>\n",
       "      <td>2</td>\n",
       "      <td>False</td>\n",
       "      <td>2</td>\n",
       "      <td>male</td>\n",
       "    </tr>\n",
       "    <tr>\n",
       "      <th>1</th>\n",
       "      <td>False</td>\n",
       "      <td>white</td>\n",
       "      <td>approve</td>\n",
       "      <td>1</td>\n",
       "      <td>128</td>\n",
       "      <td>84</td>\n",
       "      <td>1.0</td>\n",
       "      <td>0.0</td>\n",
       "      <td>False</td>\n",
       "      <td>2666</td>\n",
       "      <td>143.0</td>\n",
       "      <td>37.0</td>\n",
       "      <td>2</td>\n",
       "      <td>2</td>\n",
       "      <td>False</td>\n",
       "      <td>2</td>\n",
       "      <td>male</td>\n",
       "    </tr>\n",
       "    <tr>\n",
       "      <th>2</th>\n",
       "      <td>True</td>\n",
       "      <td>white</td>\n",
       "      <td>approve</td>\n",
       "      <td>1</td>\n",
       "      <td>66</td>\n",
       "      <td>36</td>\n",
       "      <td>1.0</td>\n",
       "      <td>0.0</td>\n",
       "      <td>True</td>\n",
       "      <td>3000</td>\n",
       "      <td>110.0</td>\n",
       "      <td>19.0</td>\n",
       "      <td>2</td>\n",
       "      <td>6</td>\n",
       "      <td>True</td>\n",
       "      <td>2</td>\n",
       "      <td>male</td>\n",
       "    </tr>\n",
       "    <tr>\n",
       "      <th>3</th>\n",
       "      <td>True</td>\n",
       "      <td>white</td>\n",
       "      <td>approve</td>\n",
       "      <td>1</td>\n",
       "      <td>120</td>\n",
       "      <td>59</td>\n",
       "      <td>1.0</td>\n",
       "      <td>0.0</td>\n",
       "      <td>False</td>\n",
       "      <td>2583</td>\n",
       "      <td>134.0</td>\n",
       "      <td>31.0</td>\n",
       "      <td>2</td>\n",
       "      <td>1</td>\n",
       "      <td>False</td>\n",
       "      <td>1</td>\n",
       "      <td>male</td>\n",
       "    </tr>\n",
       "    <tr>\n",
       "      <th>4</th>\n",
       "      <td>False</td>\n",
       "      <td>white</td>\n",
       "      <td>approve</td>\n",
       "      <td>1</td>\n",
       "      <td>111</td>\n",
       "      <td>63</td>\n",
       "      <td>1.0</td>\n",
       "      <td>0.0</td>\n",
       "      <td>False</td>\n",
       "      <td>2208</td>\n",
       "      <td>138.0</td>\n",
       "      <td>169.0</td>\n",
       "      <td>2</td>\n",
       "      <td>6</td>\n",
       "      <td>False</td>\n",
       "      <td>2</td>\n",
       "      <td>male</td>\n",
       "    </tr>\n",
       "  </tbody>\n",
       "</table>\n",
       "</div>"
      ],
      "text/plain": [
       "  married   race loan_decision  occupancy  loan_amount  applicant_income  \\\n",
       "0    True  white        reject          1          128                74   \n",
       "1   False  white       approve          1          128                84   \n",
       "2    True  white       approve          1           66                36   \n",
       "3    True  white       approve          1          120                59   \n",
       "4   False  white       approve          1          111                63   \n",
       "\n",
       "   num_units  num_dependants  self_employed  monthly_income  purchase_price  \\\n",
       "0        1.0             1.0          False            4583           160.0   \n",
       "1        1.0             0.0          False            2666           143.0   \n",
       "2        1.0             0.0           True            3000           110.0   \n",
       "3        1.0             0.0          False            2583           134.0   \n",
       "4        1.0             0.0          False            2208           138.0   \n",
       "\n",
       "   liquid_assets  mortage_payment_history  consumer_credit_history  \\\n",
       "0           52.0                        2                        2   \n",
       "1           37.0                        2                        2   \n",
       "2           19.0                        2                        6   \n",
       "3           31.0                        2                        1   \n",
       "4          169.0                        2                        6   \n",
       "\n",
       "   filed_bankruptcy  property_type gender  \n",
       "0             False              2   male  \n",
       "1             False              2   male  \n",
       "2              True              2   male  \n",
       "3             False              1   male  \n",
       "4             False              2   male  "
      ]
     },
     "execution_count": 2,
     "metadata": {},
     "output_type": "execute_result"
    }
   ],
   "source": [
    "#reading the csv file into the file handle 'df' and then printing the head of the dataframe\n",
    "df=pd.read_csv(\"loanapp.csv\")\n",
    "df.head()"
   ]
  },
  {
   "cell_type": "code",
   "execution_count": 3,
   "id": "02aafaf6",
   "metadata": {},
   "outputs": [
    {
     "data": {
      "text/html": [
       "<div>\n",
       "<style scoped>\n",
       "    .dataframe tbody tr th:only-of-type {\n",
       "        vertical-align: middle;\n",
       "    }\n",
       "\n",
       "    .dataframe tbody tr th {\n",
       "        vertical-align: top;\n",
       "    }\n",
       "\n",
       "    .dataframe thead th {\n",
       "        text-align: right;\n",
       "    }\n",
       "</style>\n",
       "<table border=\"1\" class=\"dataframe\">\n",
       "  <thead>\n",
       "    <tr style=\"text-align: right;\">\n",
       "      <th></th>\n",
       "      <th>married</th>\n",
       "      <th>race</th>\n",
       "      <th>loan_decision</th>\n",
       "      <th>occupancy</th>\n",
       "      <th>loan_amount</th>\n",
       "      <th>applicant_income</th>\n",
       "      <th>num_units</th>\n",
       "      <th>num_dependants</th>\n",
       "      <th>self_employed</th>\n",
       "      <th>monthly_income</th>\n",
       "      <th>purchase_price</th>\n",
       "      <th>liquid_assets</th>\n",
       "      <th>mortage_payment_history</th>\n",
       "      <th>consumer_credit_history</th>\n",
       "      <th>filed_bankruptcy</th>\n",
       "      <th>property_type</th>\n",
       "      <th>gender</th>\n",
       "    </tr>\n",
       "  </thead>\n",
       "  <tbody>\n",
       "    <tr>\n",
       "      <th>1983</th>\n",
       "      <td>True</td>\n",
       "      <td>white</td>\n",
       "      <td>approve</td>\n",
       "      <td>1</td>\n",
       "      <td>158</td>\n",
       "      <td>96</td>\n",
       "      <td>1.0</td>\n",
       "      <td>0.0</td>\n",
       "      <td>False</td>\n",
       "      <td>5000</td>\n",
       "      <td>176.0</td>\n",
       "      <td>15.0</td>\n",
       "      <td>2</td>\n",
       "      <td>1</td>\n",
       "      <td>False</td>\n",
       "      <td>2</td>\n",
       "      <td>male</td>\n",
       "    </tr>\n",
       "    <tr>\n",
       "      <th>1984</th>\n",
       "      <td>True</td>\n",
       "      <td>white</td>\n",
       "      <td>approve</td>\n",
       "      <td>1</td>\n",
       "      <td>35</td>\n",
       "      <td>169</td>\n",
       "      <td>1.0</td>\n",
       "      <td>0.0</td>\n",
       "      <td>False</td>\n",
       "      <td>9583</td>\n",
       "      <td>315.0</td>\n",
       "      <td>64.0</td>\n",
       "      <td>1</td>\n",
       "      <td>1</td>\n",
       "      <td>False</td>\n",
       "      <td>1</td>\n",
       "      <td>male</td>\n",
       "    </tr>\n",
       "    <tr>\n",
       "      <th>1985</th>\n",
       "      <td>True</td>\n",
       "      <td>white</td>\n",
       "      <td>approve</td>\n",
       "      <td>2</td>\n",
       "      <td>225</td>\n",
       "      <td>49</td>\n",
       "      <td>2.0</td>\n",
       "      <td>0.0</td>\n",
       "      <td>True</td>\n",
       "      <td>4159</td>\n",
       "      <td>225.0</td>\n",
       "      <td>10.0</td>\n",
       "      <td>2</td>\n",
       "      <td>1</td>\n",
       "      <td>False</td>\n",
       "      <td>3</td>\n",
       "      <td>male</td>\n",
       "    </tr>\n",
       "    <tr>\n",
       "      <th>1986</th>\n",
       "      <td>False</td>\n",
       "      <td>white</td>\n",
       "      <td>approve</td>\n",
       "      <td>1</td>\n",
       "      <td>98</td>\n",
       "      <td>110</td>\n",
       "      <td>1.0</td>\n",
       "      <td>0.0</td>\n",
       "      <td>True</td>\n",
       "      <td>9200</td>\n",
       "      <td>215.0</td>\n",
       "      <td>427.9</td>\n",
       "      <td>1</td>\n",
       "      <td>1</td>\n",
       "      <td>False</td>\n",
       "      <td>1</td>\n",
       "      <td>male</td>\n",
       "    </tr>\n",
       "    <tr>\n",
       "      <th>1987</th>\n",
       "      <td>False</td>\n",
       "      <td>black</td>\n",
       "      <td>reject</td>\n",
       "      <td>1</td>\n",
       "      <td>133</td>\n",
       "      <td>55</td>\n",
       "      <td>1.0</td>\n",
       "      <td>0.0</td>\n",
       "      <td>True</td>\n",
       "      <td>4583</td>\n",
       "      <td>148.0</td>\n",
       "      <td>24.5</td>\n",
       "      <td>2</td>\n",
       "      <td>3</td>\n",
       "      <td>False</td>\n",
       "      <td>2</td>\n",
       "      <td>female</td>\n",
       "    </tr>\n",
       "  </tbody>\n",
       "</table>\n",
       "</div>"
      ],
      "text/plain": [
       "     married   race loan_decision  occupancy  loan_amount  applicant_income  \\\n",
       "1983    True  white       approve          1          158                96   \n",
       "1984    True  white       approve          1           35               169   \n",
       "1985    True  white       approve          2          225                49   \n",
       "1986   False  white       approve          1           98               110   \n",
       "1987   False  black        reject          1          133                55   \n",
       "\n",
       "      num_units  num_dependants  self_employed  monthly_income  \\\n",
       "1983        1.0             0.0          False            5000   \n",
       "1984        1.0             0.0          False            9583   \n",
       "1985        2.0             0.0           True            4159   \n",
       "1986        1.0             0.0           True            9200   \n",
       "1987        1.0             0.0           True            4583   \n",
       "\n",
       "      purchase_price  liquid_assets  mortage_payment_history  \\\n",
       "1983           176.0           15.0                        2   \n",
       "1984           315.0           64.0                        1   \n",
       "1985           225.0           10.0                        2   \n",
       "1986           215.0          427.9                        1   \n",
       "1987           148.0           24.5                        2   \n",
       "\n",
       "      consumer_credit_history  filed_bankruptcy  property_type  gender  \n",
       "1983                        1             False              2    male  \n",
       "1984                        1             False              1    male  \n",
       "1985                        1             False              3    male  \n",
       "1986                        1             False              1    male  \n",
       "1987                        3             False              2  female  "
      ]
     },
     "execution_count": 3,
     "metadata": {},
     "output_type": "execute_result"
    }
   ],
   "source": [
    "#printing the last few rows\n",
    "df.tail()"
   ]
  },
  {
   "cell_type": "markdown",
   "id": "0ab2d8fd",
   "metadata": {},
   "source": [
    "<font color='blue'>The number of columns, column labels, column data types, memory use, range index, and the number of cells in each column are all included in the info() method(non-null values)..<font>"
   ]
  },
  {
   "cell_type": "code",
   "execution_count": 4,
   "id": "0c939f4f",
   "metadata": {},
   "outputs": [
    {
     "name": "stdout",
     "output_type": "stream",
     "text": [
      "<class 'pandas.core.frame.DataFrame'>\n",
      "RangeIndex: 1988 entries, 0 to 1987\n",
      "Data columns (total 17 columns):\n",
      " #   Column                   Non-Null Count  Dtype  \n",
      "---  ------                   --------------  -----  \n",
      " 0   married                  1985 non-null   object \n",
      " 1   race                     1988 non-null   object \n",
      " 2   loan_decision            1988 non-null   object \n",
      " 3   occupancy                1988 non-null   int64  \n",
      " 4   loan_amount              1988 non-null   int64  \n",
      " 5   applicant_income         1988 non-null   int64  \n",
      " 6   num_units                1984 non-null   float64\n",
      " 7   num_dependants           1985 non-null   float64\n",
      " 8   self_employed            1988 non-null   bool   \n",
      " 9   monthly_income           1988 non-null   int64  \n",
      " 10  purchase_price           1988 non-null   float64\n",
      " 11  liquid_assets            1988 non-null   float64\n",
      " 12  mortage_payment_history  1988 non-null   int64  \n",
      " 13  consumer_credit_history  1988 non-null   int64  \n",
      " 14  filed_bankruptcy         1988 non-null   bool   \n",
      " 15  property_type            1988 non-null   int64  \n",
      " 16  gender                   1974 non-null   object \n",
      "dtypes: bool(2), float64(4), int64(7), object(4)\n",
      "memory usage: 237.0+ KB\n"
     ]
    }
   ],
   "source": [
    "#printing information about the data frame\n",
    "df.info()"
   ]
  },
  {
   "cell_type": "markdown",
   "id": "a025ed42",
   "metadata": {},
   "source": [
    "### Dropping duplicate rows"
   ]
  },
  {
   "cell_type": "markdown",
   "id": "250d7247",
   "metadata": {},
   "source": [
    "<font color='blue'>This is typically useful since we may have duplicate data that is bothersome, thus we need to delete all duplicate values from the data set.</font>\n"
   ]
  },
  {
   "cell_type": "code",
   "execution_count": 5,
   "id": "1c40aee0",
   "metadata": {},
   "outputs": [
    {
     "name": "stdout",
     "output_type": "stream",
     "text": [
      "number of duplicate rows: (1, 17)\n"
     ]
    },
    {
     "data": {
      "text/html": [
       "<div>\n",
       "<style scoped>\n",
       "    .dataframe tbody tr th:only-of-type {\n",
       "        vertical-align: middle;\n",
       "    }\n",
       "\n",
       "    .dataframe tbody tr th {\n",
       "        vertical-align: top;\n",
       "    }\n",
       "\n",
       "    .dataframe thead th {\n",
       "        text-align: right;\n",
       "    }\n",
       "</style>\n",
       "<table border=\"1\" class=\"dataframe\">\n",
       "  <thead>\n",
       "    <tr style=\"text-align: right;\">\n",
       "      <th></th>\n",
       "      <th>married</th>\n",
       "      <th>race</th>\n",
       "      <th>loan_decision</th>\n",
       "      <th>occupancy</th>\n",
       "      <th>loan_amount</th>\n",
       "      <th>applicant_income</th>\n",
       "      <th>num_units</th>\n",
       "      <th>num_dependants</th>\n",
       "      <th>self_employed</th>\n",
       "      <th>monthly_income</th>\n",
       "      <th>purchase_price</th>\n",
       "      <th>liquid_assets</th>\n",
       "      <th>mortage_payment_history</th>\n",
       "      <th>consumer_credit_history</th>\n",
       "      <th>filed_bankruptcy</th>\n",
       "      <th>property_type</th>\n",
       "      <th>gender</th>\n",
       "    </tr>\n",
       "  </thead>\n",
       "  <tbody>\n",
       "    <tr>\n",
       "      <th>458</th>\n",
       "      <td>False</td>\n",
       "      <td>white</td>\n",
       "      <td>approve</td>\n",
       "      <td>1</td>\n",
       "      <td>136</td>\n",
       "      <td>64</td>\n",
       "      <td>1.0</td>\n",
       "      <td>0.0</td>\n",
       "      <td>False</td>\n",
       "      <td>5316</td>\n",
       "      <td>170.0</td>\n",
       "      <td>46.0</td>\n",
       "      <td>2</td>\n",
       "      <td>1</td>\n",
       "      <td>False</td>\n",
       "      <td>2</td>\n",
       "      <td>male</td>\n",
       "    </tr>\n",
       "  </tbody>\n",
       "</table>\n",
       "</div>"
      ],
      "text/plain": [
       "    married   race loan_decision  occupancy  loan_amount  applicant_income  \\\n",
       "458   False  white       approve          1          136                64   \n",
       "\n",
       "     num_units  num_dependants  self_employed  monthly_income  purchase_price  \\\n",
       "458        1.0             0.0          False            5316           170.0   \n",
       "\n",
       "     liquid_assets  mortage_payment_history  consumer_credit_history  \\\n",
       "458           46.0                        2                        1   \n",
       "\n",
       "     filed_bankruptcy  property_type gender  \n",
       "458             False              2   male  "
      ]
     },
     "execution_count": 5,
     "metadata": {},
     "output_type": "execute_result"
    }
   ],
   "source": [
    "#Creating a new dataframe to store the duplicate rows of the dataset\n",
    "duplicate_rows_df = df[df.duplicated()]\n",
    "print('number of duplicate rows:', duplicate_rows_df.shape)\n",
    "duplicate_rows_df"
   ]
  },
  {
   "cell_type": "markdown",
   "id": "0727ac23",
   "metadata": {},
   "source": [
    "<font color='blue'>By the output, it is evident that there is only one duplicate row in the dataset.</font>"
   ]
  },
  {
   "cell_type": "code",
   "execution_count": 6,
   "id": "e12686ed",
   "metadata": {},
   "outputs": [
    {
     "data": {
      "text/plain": [
       "(1987, 17)"
      ]
     },
     "execution_count": 6,
     "metadata": {},
     "output_type": "execute_result"
    }
   ],
   "source": [
    "# Dropping the duplicates \n",
    "df = df.drop_duplicates()\n",
    "df.shape"
   ]
  },
  {
   "cell_type": "markdown",
   "id": "b13c8cc0",
   "metadata": {},
   "source": [
    "<font color='blue'>So, now the only duplicate row has been deleted.</font>"
   ]
  },
  {
   "cell_type": "markdown",
   "id": "cafd4cf1",
   "metadata": {},
   "source": [
    "# Step1"
   ]
  },
  {
   "cell_type": "code",
   "execution_count": 7,
   "id": "522cef14",
   "metadata": {},
   "outputs": [
    {
     "data": {
      "text/html": [
       "<div>\n",
       "<style scoped>\n",
       "    .dataframe tbody tr th:only-of-type {\n",
       "        vertical-align: middle;\n",
       "    }\n",
       "\n",
       "    .dataframe tbody tr th {\n",
       "        vertical-align: top;\n",
       "    }\n",
       "\n",
       "    .dataframe thead th {\n",
       "        text-align: right;\n",
       "    }\n",
       "</style>\n",
       "<table border=\"1\" class=\"dataframe\">\n",
       "  <thead>\n",
       "    <tr style=\"text-align: right;\">\n",
       "      <th></th>\n",
       "      <th>occupancy</th>\n",
       "      <th>loan_amount</th>\n",
       "      <th>applicant_income</th>\n",
       "      <th>num_units</th>\n",
       "      <th>num_dependants</th>\n",
       "      <th>monthly_income</th>\n",
       "      <th>purchase_price</th>\n",
       "      <th>liquid_assets</th>\n",
       "      <th>mortage_payment_history</th>\n",
       "      <th>consumer_credit_history</th>\n",
       "      <th>property_type</th>\n",
       "    </tr>\n",
       "  </thead>\n",
       "  <tbody>\n",
       "    <tr>\n",
       "      <th>count</th>\n",
       "      <td>1987.000000</td>\n",
       "      <td>1987.000000</td>\n",
       "      <td>1987.000000</td>\n",
       "      <td>1983.000000</td>\n",
       "      <td>1984.000000</td>\n",
       "      <td>1987.00000</td>\n",
       "      <td>1987.000000</td>\n",
       "      <td>1987.000000</td>\n",
       "      <td>1987.000000</td>\n",
       "      <td>1987.000000</td>\n",
       "      <td>1987.000000</td>\n",
       "    </tr>\n",
       "    <tr>\n",
       "      <th>mean</th>\n",
       "      <td>1.031706</td>\n",
       "      <td>143.276296</td>\n",
       "      <td>84.694514</td>\n",
       "      <td>1.122542</td>\n",
       "      <td>0.771673</td>\n",
       "      <td>5195.16004</td>\n",
       "      <td>196.317326</td>\n",
       "      <td>4622.636004</td>\n",
       "      <td>1.708103</td>\n",
       "      <td>2.110720</td>\n",
       "      <td>1.861097</td>\n",
       "    </tr>\n",
       "    <tr>\n",
       "      <th>std</th>\n",
       "      <td>0.191725</td>\n",
       "      <td>80.551577</td>\n",
       "      <td>87.100460</td>\n",
       "      <td>0.437416</td>\n",
       "      <td>1.104606</td>\n",
       "      <td>5271.68696</td>\n",
       "      <td>128.166926</td>\n",
       "      <td>67159.759499</td>\n",
       "      <td>0.555436</td>\n",
       "      <td>1.663488</td>\n",
       "      <td>0.535574</td>\n",
       "    </tr>\n",
       "    <tr>\n",
       "      <th>min</th>\n",
       "      <td>1.000000</td>\n",
       "      <td>2.000000</td>\n",
       "      <td>0.000000</td>\n",
       "      <td>1.000000</td>\n",
       "      <td>0.000000</td>\n",
       "      <td>0.00000</td>\n",
       "      <td>25.000000</td>\n",
       "      <td>0.000000</td>\n",
       "      <td>1.000000</td>\n",
       "      <td>1.000000</td>\n",
       "      <td>1.000000</td>\n",
       "    </tr>\n",
       "    <tr>\n",
       "      <th>25%</th>\n",
       "      <td>1.000000</td>\n",
       "      <td>100.000000</td>\n",
       "      <td>48.000000</td>\n",
       "      <td>1.000000</td>\n",
       "      <td>0.000000</td>\n",
       "      <td>2875.50000</td>\n",
       "      <td>129.000000</td>\n",
       "      <td>20.000000</td>\n",
       "      <td>1.000000</td>\n",
       "      <td>1.000000</td>\n",
       "      <td>2.000000</td>\n",
       "    </tr>\n",
       "    <tr>\n",
       "      <th>50%</th>\n",
       "      <td>1.000000</td>\n",
       "      <td>126.000000</td>\n",
       "      <td>64.000000</td>\n",
       "      <td>1.000000</td>\n",
       "      <td>0.000000</td>\n",
       "      <td>3812.00000</td>\n",
       "      <td>163.000000</td>\n",
       "      <td>38.000000</td>\n",
       "      <td>2.000000</td>\n",
       "      <td>1.000000</td>\n",
       "      <td>2.000000</td>\n",
       "    </tr>\n",
       "    <tr>\n",
       "      <th>75%</th>\n",
       "      <td>1.000000</td>\n",
       "      <td>165.000000</td>\n",
       "      <td>88.000000</td>\n",
       "      <td>1.000000</td>\n",
       "      <td>1.000000</td>\n",
       "      <td>5595.00000</td>\n",
       "      <td>225.000000</td>\n",
       "      <td>83.000000</td>\n",
       "      <td>2.000000</td>\n",
       "      <td>2.000000</td>\n",
       "      <td>2.000000</td>\n",
       "    </tr>\n",
       "    <tr>\n",
       "      <th>max</th>\n",
       "      <td>3.000000</td>\n",
       "      <td>980.000000</td>\n",
       "      <td>972.000000</td>\n",
       "      <td>4.000000</td>\n",
       "      <td>8.000000</td>\n",
       "      <td>81000.00000</td>\n",
       "      <td>1535.000000</td>\n",
       "      <td>1000000.000000</td>\n",
       "      <td>4.000000</td>\n",
       "      <td>6.000000</td>\n",
       "      <td>3.000000</td>\n",
       "    </tr>\n",
       "  </tbody>\n",
       "</table>\n",
       "</div>"
      ],
      "text/plain": [
       "         occupancy  loan_amount  applicant_income    num_units  \\\n",
       "count  1987.000000  1987.000000       1987.000000  1983.000000   \n",
       "mean      1.031706   143.276296         84.694514     1.122542   \n",
       "std       0.191725    80.551577         87.100460     0.437416   \n",
       "min       1.000000     2.000000          0.000000     1.000000   \n",
       "25%       1.000000   100.000000         48.000000     1.000000   \n",
       "50%       1.000000   126.000000         64.000000     1.000000   \n",
       "75%       1.000000   165.000000         88.000000     1.000000   \n",
       "max       3.000000   980.000000        972.000000     4.000000   \n",
       "\n",
       "       num_dependants  monthly_income  purchase_price   liquid_assets  \\\n",
       "count     1984.000000      1987.00000     1987.000000     1987.000000   \n",
       "mean         0.771673      5195.16004      196.317326     4622.636004   \n",
       "std          1.104606      5271.68696      128.166926    67159.759499   \n",
       "min          0.000000         0.00000       25.000000        0.000000   \n",
       "25%          0.000000      2875.50000      129.000000       20.000000   \n",
       "50%          0.000000      3812.00000      163.000000       38.000000   \n",
       "75%          1.000000      5595.00000      225.000000       83.000000   \n",
       "max          8.000000     81000.00000     1535.000000  1000000.000000   \n",
       "\n",
       "       mortage_payment_history  consumer_credit_history  property_type  \n",
       "count              1987.000000              1987.000000    1987.000000  \n",
       "mean                  1.708103                 2.110720       1.861097  \n",
       "std                   0.555436                 1.663488       0.535574  \n",
       "min                   1.000000                 1.000000       1.000000  \n",
       "25%                   1.000000                 1.000000       2.000000  \n",
       "50%                   2.000000                 1.000000       2.000000  \n",
       "75%                   2.000000                 2.000000       2.000000  \n",
       "max                   4.000000                 6.000000       3.000000  "
      ]
     },
     "execution_count": 7,
     "metadata": {},
     "output_type": "execute_result"
    }
   ],
   "source": [
    "df.describe()"
   ]
  },
  {
   "cell_type": "markdown",
   "id": "15a3a21a",
   "metadata": {},
   "source": [
    "<font color='blue'>The describe() method returns a description of the DataFrame's numerical data.\n",
    "count - The number of not-empty values.\n",
    "\n",
    "average (mean) - average (mean) value..\n",
    "\n",
    "std -  standard deviation.\n",
    "\n",
    "min -  minimum value.\n",
    "\n",
    "25% - 25% percentile*, Q1 (first Quartile).\n",
    "\n",
    "50% -  50th percentile*,  Median.\n",
    "\n",
    "75% -  75th percentile*,  Q2 (second Quartile).\n",
    "\n",
    "max -  maximum value.</font>\n"
   ]
  },
  {
   "cell_type": "markdown",
   "id": "c246000b",
   "metadata": {},
   "source": [
    "# Step2"
   ]
  },
  {
   "cell_type": "markdown",
   "id": "bb2743b1",
   "metadata": {},
   "source": [
    "<font color='blue'>\n",
    "df.isnull(). sum() returns the number of missing values in each column of the data set."
   ]
  },
  {
   "cell_type": "code",
   "execution_count": 8,
   "id": "02c35e99",
   "metadata": {},
   "outputs": [
    {
     "data": {
      "text/plain": [
       "married                     3\n",
       "race                        0\n",
       "loan_decision               0\n",
       "occupancy                   0\n",
       "loan_amount                 0\n",
       "applicant_income            0\n",
       "num_units                   4\n",
       "num_dependants              3\n",
       "self_employed               0\n",
       "monthly_income              0\n",
       "purchase_price              0\n",
       "liquid_assets               0\n",
       "mortage_payment_history     0\n",
       "consumer_credit_history     0\n",
       "filed_bankruptcy            0\n",
       "property_type               0\n",
       "gender                     14\n",
       "dtype: int64"
      ]
     },
     "execution_count": 8,
     "metadata": {},
     "output_type": "execute_result"
    }
   ],
   "source": [
    "df.isnull().sum()"
   ]
  },
  {
   "cell_type": "markdown",
   "id": "31d3fea3",
   "metadata": {},
   "source": [
    "<font color='blue'>We can see that there are 4 columns – gender, married, num_dependents,num_units having missing values.</font>"
   ]
  },
  {
   "cell_type": "code",
   "execution_count": 9,
   "id": "a09640c8",
   "metadata": {},
   "outputs": [
    {
     "name": "stdout",
     "output_type": "stream",
     "text": [
      "Total number of missing values in the entier dataset are: 24\n"
     ]
    }
   ],
   "source": [
    "#Finding the total number of missing values from the entire dataset\n",
    "print(f\"Total number of missing values in the entier dataset are:\",df.isnull().sum().sum())"
   ]
  },
  {
   "cell_type": "markdown",
   "id": "d754990c",
   "metadata": {},
   "source": [
    "### Two primary ways of handling missing values:"
   ]
  },
  {
   "cell_type": "markdown",
   "id": "b4e79d17",
   "metadata": {},
   "source": [
    "<font color='blue'>Deleting Missing Values:\n",
    "\n",
    "This strategy isn't encouraged. It's one of the quick-and-dirty methods for dealing with missing values.\n",
    "The drawback of this strategy is that it may result in the deletion of some useful data from the dataset."
   ]
  },
  {
   "cell_type": "markdown",
   "id": "4b253684",
   "metadata": {},
   "source": [
    "<font color='blue'>Imputing the Missing Values:"
   ]
  },
  {
   "cell_type": "markdown",
   "id": "69d106a6",
   "metadata": {},
   "source": [
    "<font color='blue'>1)Fill in the mode for each categorical value.\n",
    "\n",
    "Mode is the most frequently occurring value. It is used in the case of categorical features.\n",
    "\n",
    "Here ‘fillna’ method is used for imputing the categorical columns ‘Gender’ and ‘Married’.\n"
   ]
  },
  {
   "cell_type": "code",
   "execution_count": 10,
   "id": "2b65bf42",
   "metadata": {},
   "outputs": [
    {
     "data": {
      "text/plain": [
       "married                    0\n",
       "race                       0\n",
       "loan_decision              0\n",
       "occupancy                  0\n",
       "loan_amount                0\n",
       "applicant_income           0\n",
       "num_units                  4\n",
       "num_dependants             3\n",
       "self_employed              0\n",
       "monthly_income             0\n",
       "purchase_price             0\n",
       "liquid_assets              0\n",
       "mortage_payment_history    0\n",
       "consumer_credit_history    0\n",
       "filed_bankruptcy           0\n",
       "property_type              0\n",
       "gender                     0\n",
       "dtype: int64"
      ]
     },
     "execution_count": 10,
     "metadata": {},
     "output_type": "execute_result"
    }
   ],
   "source": [
    "#Replace the missing values for categorical columns with mode\n",
    "df['gender'] = df['gender'].fillna(df['gender'].mode()[0])\n",
    "df['married'] = df['married'].fillna(df['married'].mode()[0])\n",
    "df.isnull().sum()"
   ]
  },
  {
   "cell_type": "markdown",
   "id": "4c235838",
   "metadata": {},
   "source": [
    "### Detecting Outliers for num_units and num_dependants columns"
   ]
  },
  {
   "cell_type": "markdown",
   "id": "221ee67e",
   "metadata": {},
   "source": [
    "<font color='blue'>2)Fill in the mean or median of a numerical variable."
   ]
  },
  {
   "cell_type": "markdown",
   "id": "6f5208b8",
   "metadata": {},
   "source": [
    "Seaborn is a Python module for creating statistical visuals."
   ]
  },
  {
   "cell_type": "code",
   "execution_count": 11,
   "id": "72949131",
   "metadata": {},
   "outputs": [
    {
     "data": {
      "text/plain": [
       "<Axes: xlabel='num_units'>"
      ]
     },
     "execution_count": 11,
     "metadata": {},
     "output_type": "execute_result"
    },
    {
     "data": {
      "image/png": "[encoded data removed]",
      "text/plain": [
       "<Figure size 640x480 with 1 Axes>"
      ]
     },
     "metadata": {},
     "output_type": "display_data"
    }
   ],
   "source": [
    "#importing seaborn library to plot boxplot and determine the presence of outlier\n",
    "import seaborn as sns\n",
    "sns.boxplot(x=df['num_units'])"
   ]
  },
  {
   "cell_type": "code",
   "execution_count": 12,
   "id": "bbbaae74",
   "metadata": {},
   "outputs": [
    {
     "data": {
      "text/plain": [
       "<Axes: xlabel='num_dependants'>"
      ]
     },
     "execution_count": 12,
     "metadata": {},
     "output_type": "execute_result"
    },
    {
     "data": {
      "image/png": "[encoded data removed]",
      "text/plain": [
       "<Figure size 640x480 with 1 Axes>"
      ]
     },
     "metadata": {},
     "output_type": "display_data"
    }
   ],
   "source": [
    "sns.boxplot(x=df['num_dependants'])"
   ]
  },
  {
   "cell_type": "markdown",
   "id": "e54d03b7",
   "metadata": {},
   "source": [
    "<font color='blue'>Both the above graphs shows the presence of outliers.Hence, we cannot use the mean values of the columns to impute the missing values as the impact would be significant.\n",
    "    \n",
    "And using the median might result in an non-integer value.So, we will use the forward fill method to impute the missing values.</font>"
   ]
  },
  {
   "cell_type": "code",
   "execution_count": 13,
   "id": "bbd04bbd",
   "metadata": {},
   "outputs": [
    {
     "name": "stdout",
     "output_type": "stream",
     "text": [
      "Total number of missing values in the entier dataset are: 0\n"
     ]
    }
   ],
   "source": [
    "#The fillna() method replaces NULL values with a value that you specify.\n",
    "df['num_units']= df['num_units'].fillna(method='ffill')\n",
    "df['num_dependants']= df['num_dependants'].fillna(method='ffill')\n",
    "print(f\"Total number of missing values in the entier dataset are:\",df.isnull().sum().sum())"
   ]
  },
  {
   "cell_type": "markdown",
   "id": "15027864",
   "metadata": {},
   "source": [
    "<font color='blue'>All the missing values are now filled with appropriate values "
   ]
  },
  {
   "cell_type": "markdown",
   "id": "dff09180",
   "metadata": {},
   "source": [
    "# Step3"
   ]
  },
  {
   "cell_type": "markdown",
   "id": "992e37ce",
   "metadata": {},
   "source": [
    "<font color='blue'>Histogram is used to visualise the distribution of different continuous variables.\n",
    "\n",
    "a)As it aids in determining and comparing the frequency \n",
    "\n",
    "b)It is easier to interpret data since it is a pictorial depiction \n",
    "\n",
    "c)A big volume of data may be evaluated because data range is used.\n",
    "\n",
    "Furthermore, the kde plot is employed because it creates a gaussian bell curve over each unique sample value. The final curve is created by adding all of the bell curves together."
   ]
  },
  {
   "cell_type": "code",
   "execution_count": 14,
   "id": "8ebd25e1",
   "metadata": {},
   "outputs": [
    {
     "name": "stdout",
     "output_type": "stream",
     "text": [
      "count     1987.00000\n",
      "mean      5195.16004\n",
      "std       5271.68696\n",
      "min          0.00000\n",
      "25%       2875.50000\n",
      "50%       3812.00000\n",
      "75%       5595.00000\n",
      "max      81000.00000\n",
      "Name: monthly_income, dtype: float64\n"
     ]
    },
    {
     "data": {
      "text/plain": [
       "Text(0.5, 1.0, 'monthly_income Distribution')"
      ]
     },
     "execution_count": 14,
     "metadata": {},
     "output_type": "execute_result"
    },
    {
     "data": {
      "image/png": "[encoded data removed]",
      "text/plain": [
       "<Figure size 600x400 with 1 Axes>"
      ]
     },
     "metadata": {},
     "output_type": "display_data"
    }
   ],
   "source": [
    "#printing the statistics and plotting the ditribution of the column 'Monthly_Income'\n",
    "print(df['monthly_income'].describe())\n",
    "plt.figure(figsize=(6,4))\n",
    "sns.histplot(df['monthly_income'], color='g', fill=False,bins=50,kde=True)\n",
    "plt.title('monthly_income Distribution', fontsize=18)"
   ]
  },
  {
   "cell_type": "markdown",
   "id": "2b0f0adb",
   "metadata": {},
   "source": [
    "<font color='blue'>From the above descriptive table we can infer that the average monthly income of the sample is 5195.220825, and the graph depicts maximum number of people with similar monthly income populated around that average(Almost 75% of people below 5594.500000). A very few people with a high income indicating the outliers."
   ]
  },
  {
   "cell_type": "code",
   "execution_count": 15,
   "id": "d7841bef",
   "metadata": {
    "scrolled": false
   },
   "outputs": [
    {
     "name": "stdout",
     "output_type": "stream",
     "text": [
      "count    1987.000000\n",
      "mean      143.276296\n",
      "std        80.551577\n",
      "min         2.000000\n",
      "25%       100.000000\n",
      "50%       126.000000\n",
      "75%       165.000000\n",
      "max       980.000000\n",
      "Name: loan_amount, dtype: float64\n"
     ]
    },
    {
     "data": {
      "text/plain": [
       "Text(0.5, 1.0, 'loan_amount Distribution')"
      ]
     },
     "execution_count": 15,
     "metadata": {},
     "output_type": "execute_result"
    },
    {
     "data": {
      "image/png": "[encoded data removed]",
      "text/plain": [
       "<Figure size 600x400 with 1 Axes>"
      ]
     },
     "metadata": {},
     "output_type": "display_data"
    }
   ],
   "source": [
    "#printing the statistics and plotting the ditribution of the column 'Loan_amount'\n",
    "print(df['loan_amount'].describe())\n",
    "plt.figure(figsize=(6,4))\n",
    "sns.histplot(df['loan_amount'], color='g', fill=False,bins=100,kde=True)\n",
    "plt.title('loan_amount Distribution', fontsize=18)"
   ]
  },
  {
   "cell_type": "markdown",
   "id": "46483171",
   "metadata": {},
   "source": [
    "<font color='blue'>From the above descriptive table we can infer that the average loan amount sanctioned by the bank for the given sample is 143.272636, and the graph depicts maximum number of people with similar monthly income populated around that average(Almost 75% of people below 165). A very few people with a high loan amount indicating the outliers."
   ]
  },
  {
   "cell_type": "markdown",
   "id": "8cbd1e4a",
   "metadata": {},
   "source": [
    "# Step4"
   ]
  },
  {
   "cell_type": "markdown",
   "id": "5ad919d2",
   "metadata": {},
   "source": [
    "<font color='blue'>A scatter plot shows a relationship and a trend with respect to two variables.\n",
    "It gives the direction, whether there is positive or negative type of correlation."
   ]
  },
  {
   "cell_type": "code",
   "execution_count": 16,
   "id": "ee0a28d5",
   "metadata": {},
   "outputs": [
    {
     "data": {
      "text/plain": [
       "[Text(0.5, 1.0, 'Loan Amount vs Applicant Income')]"
      ]
     },
     "execution_count": 16,
     "metadata": {},
     "output_type": "execute_result"
    },
    {
     "data": {
      "image/png": "[encoded data removed]",
      "text/plain": [
       "<Figure size 640x480 with 1 Axes>"
      ]
     },
     "metadata": {},
     "output_type": "display_data"
    }
   ],
   "source": [
    "#plotting Scatter plots with loan_amount and Monthly_income\n",
    "sns.scatterplot(x=df['applicant_income'],y=df['loan_amount']).set(title='Loan Amount vs Applicant Income')"
   ]
  },
  {
   "cell_type": "markdown",
   "id": "872062fe",
   "metadata": {},
   "source": [
    "<font color=\"blue\">The above graph shows a positive correlation between loan_amount and applicant_income.This gives the direction of correlation and states that loan amount increases with increase in applicants income "
   ]
  },
  {
   "cell_type": "code",
   "execution_count": 17,
   "id": "0e212651",
   "metadata": {},
   "outputs": [
    {
     "name": "stdout",
     "output_type": "stream",
     "text": [
      "The correlation between monthly_income and purchase_price is: 0.43340178058988926\n"
     ]
    }
   ],
   "source": [
    "print(f\"The correlation between monthly_income and purchase_price is:\",\n",
    "      df['loan_amount'].corr(df['applicant_income'],method='pearson'))"
   ]
  },
  {
   "cell_type": "markdown",
   "id": "66a83e2f",
   "metadata": {},
   "source": [
    "<font color='blue'>Pearson’s correlation coefficient :It gives information about the magnitude of the association, or correlation, as well as the direction of the relationship."
   ]
  },
  {
   "cell_type": "markdown",
   "id": "12233048",
   "metadata": {},
   "source": [
    "<font color='blue'>Here the coefficient value lies between ± 0.0 and ± 0.5 hence it has a week correlation."
   ]
  },
  {
   "cell_type": "markdown",
   "id": "0f10c220",
   "metadata": {},
   "source": [
    "# Step 5"
   ]
  },
  {
   "cell_type": "code",
   "execution_count": 18,
   "id": "70172757",
   "metadata": {},
   "outputs": [
    {
     "data": {
      "text/plain": [
       "array(['male', 'female'], dtype=object)"
      ]
     },
     "execution_count": 18,
     "metadata": {},
     "output_type": "execute_result"
    }
   ],
   "source": [
    "#Finding the unique value of the gender column\n",
    "df['gender'].unique()"
   ]
  },
  {
   "cell_type": "code",
   "execution_count": 19,
   "id": "a85a4b97",
   "metadata": {},
   "outputs": [
    {
     "data": {
      "text/plain": [
       "array(['white', 'black', 'hispan'], dtype=object)"
      ]
     },
     "execution_count": 19,
     "metadata": {},
     "output_type": "execute_result"
    }
   ],
   "source": [
    "#Finding the unique value of the race column\n",
    "df['race'].unique()"
   ]
  },
  {
   "cell_type": "code",
   "execution_count": 20,
   "id": "971ac3ce",
   "metadata": {},
   "outputs": [
    {
     "data": {
      "text/plain": [
       "array(['reject', 'approve'], dtype=object)"
      ]
     },
     "execution_count": 20,
     "metadata": {},
     "output_type": "execute_result"
    }
   ],
   "source": [
    "#Finding the unique value of the Loan_decision column\n",
    "df['loan_decision'].unique()"
   ]
  },
  {
   "cell_type": "markdown",
   "id": "645aa5dc",
   "metadata": {},
   "source": [
    "# Step 6"
   ]
  },
  {
   "cell_type": "markdown",
   "id": "a7f2418a",
   "metadata": {},
   "source": [
    "<font color='blue'>To determine the dependency, Chi-Square Test is conducted (Since categorical variables).\n",
    "\n",
    "    \n",
    "Null Hypothesis--> H0: Loan Decision is 'Not' dependent on Filed Bankruptcy\n",
    "\n",
    "    \n",
    "\n",
    "    \n",
    "Alternative Hypothesis--> H1: Loan Decision is dependent on Filed Bankruptcy\n",
    "\n",
    "Test Choosen: Chi-Square Test</font>"
   ]
  },
  {
   "cell_type": "code",
   "execution_count": 21,
   "id": "b0550f7d",
   "metadata": {},
   "outputs": [
    {
     "data": {
      "text/html": [
       "<div>\n",
       "<style scoped>\n",
       "    .dataframe tbody tr th:only-of-type {\n",
       "        vertical-align: middle;\n",
       "    }\n",
       "\n",
       "    .dataframe tbody tr th {\n",
       "        vertical-align: top;\n",
       "    }\n",
       "\n",
       "    .dataframe thead th {\n",
       "        text-align: right;\n",
       "    }\n",
       "</style>\n",
       "<table border=\"1\" class=\"dataframe\">\n",
       "  <thead>\n",
       "    <tr style=\"text-align: right;\">\n",
       "      <th>loan_decision</th>\n",
       "      <th>approve</th>\n",
       "      <th>reject</th>\n",
       "    </tr>\n",
       "    <tr>\n",
       "      <th>filed_bankruptcy</th>\n",
       "      <th></th>\n",
       "      <th></th>\n",
       "    </tr>\n",
       "  </thead>\n",
       "  <tbody>\n",
       "    <tr>\n",
       "      <th>False</th>\n",
       "      <td>1667</td>\n",
       "      <td>183</td>\n",
       "    </tr>\n",
       "    <tr>\n",
       "      <th>True</th>\n",
       "      <td>76</td>\n",
       "      <td>61</td>\n",
       "    </tr>\n",
       "  </tbody>\n",
       "</table>\n",
       "</div>"
      ],
      "text/plain": [
       "loan_decision     approve  reject\n",
       "filed_bankruptcy                 \n",
       "False                1667     183\n",
       "True                   76      61"
      ]
     },
     "execution_count": 21,
     "metadata": {},
     "output_type": "execute_result"
    }
   ],
   "source": [
    "#Creating a tally_table with the help of pandas crosstab function.\n",
    "tally_table=pd.crosstab(df['filed_bankruptcy'],df['loan_decision'])\n",
    "tally_table"
   ]
  },
  {
   "cell_type": "code",
   "execution_count": 22,
   "id": "af4c930c",
   "metadata": {},
   "outputs": [
    {
     "data": {
      "text/plain": [
       "<Axes: xlabel='filed_bankruptcy'>"
      ]
     },
     "execution_count": 22,
     "metadata": {},
     "output_type": "execute_result"
    },
    {
     "data": {
      "image/png": "[encoded data removed]",
      "text/plain": [
       "<Figure size 640x480 with 1 Axes>"
      ]
     },
     "metadata": {},
     "output_type": "display_data"
    }
   ],
   "source": [
    "tally_table.plot(kind=\"bar\", stacked=True, rot=0, color={'reject':'red','approve':'green'})"
   ]
  },
  {
   "cell_type": "markdown",
   "id": "98a52fbe",
   "metadata": {},
   "source": [
    "<font color='blue'>We can deduce the following from the graph:\n",
    "    \n",
    "Majority of the loan applications were not rejected of appplicants who didn't file for the Bankruptcy or Majority of applicants with no Bankruptcy were approved the loan."
   ]
  },
  {
   "cell_type": "code",
   "execution_count": 23,
   "id": "a1db971c",
   "metadata": {},
   "outputs": [],
   "source": [
    "#importing scipy library in order to perform the chi-square test\n",
    "from scipy import stats"
   ]
  },
  {
   "cell_type": "code",
   "execution_count": 24,
   "id": "8e78efa8",
   "metadata": {},
   "outputs": [
    {
     "name": "stdout",
     "output_type": "stream",
     "text": [
      "P value is: 4.77550771609102e-32\n"
     ]
    }
   ],
   "source": [
    "#Using the chi2 contingency function of the stats model to implement Chi-Square test and passing tally_table to it\n",
    "chi2, p_val, dof ,expected =stats.chi2_contingency(tally_table)\n",
    "print(f\"P value is: {p_val}\")"
   ]
  },
  {
   "cell_type": "markdown",
   "id": "7c1067de",
   "metadata": {},
   "source": [
    "<font color='blue'>If p_val>alpha: Failed to reject the Null Hypothesis\n",
    "\n",
    "If p_val<alpha: Reject the Null Hypothesis.</font>"
   ]
  },
  {
   "cell_type": "code",
   "execution_count": 25,
   "id": "32858f1c",
   "metadata": {},
   "outputs": [
    {
     "name": "stdout",
     "output_type": "stream",
     "text": [
      "Reject the Null hypothesis.Hence, Loan Decision is dependent on Filed Bankruptcy.\n"
     ]
    }
   ],
   "source": [
    "\"\"\"Comparing the P-value with level of significance, \n",
    "in order to take a decision on Rejecting the Null Hypothesis or Failing to reject the Null Hypothesis\"\"\"\n",
    "\n",
    "level_of_significance=0.05\n",
    "if p_val>level_of_significance:\n",
    "    print('Failed to reject the Null hypothesis.Hence, Loan Decision is \"Not\" dependent on Filed Bankruptcy.')\n",
    "else:\n",
    "    print(\"Reject the Null hypothesis.Hence, Loan Decision is dependent on Filed Bankruptcy.\")"
   ]
  },
  {
   "cell_type": "markdown",
   "id": "fdf76356",
   "metadata": {},
   "source": [
    "<font color='blue'>The p val is substantially smaller than the level of significance in this case. As a result, the \"Null Hypothesis is rejected and the Alternate Hypothesis is accepted\".\n",
    "\n",
    "\n",
    "So we can infer that, the bank does take the filed Bankruptcy into consideration while making the loan decision.</font>"
   ]
  },
  {
   "cell_type": "markdown",
   "id": "645b94ea",
   "metadata": {},
   "source": [
    "# Step 7"
   ]
  },
  {
   "cell_type": "markdown",
   "id": "6dd290bc",
   "metadata": {},
   "source": [
    "<font color='blue'>The following code creates a subset of Loan Amount data for all the black male in the population</font>"
   ]
  },
  {
   "cell_type": "code",
   "execution_count": 26,
   "id": "30fc71c9",
   "metadata": {},
   "outputs": [
    {
     "data": {
      "text/plain": [
       "count    146.000000\n",
       "mean     143.246575\n",
       "std       73.176929\n",
       "min       45.000000\n",
       "25%      108.000000\n",
       "50%      130.000000\n",
       "75%      161.500000\n",
       "max      732.000000\n",
       "Name: loan_amount, dtype: float64"
      ]
     },
     "execution_count": 26,
     "metadata": {},
     "output_type": "execute_result"
    }
   ],
   "source": [
    "subset1=df[(df['race']=='black')  & (df['gender'] == 'male')]['loan_amount']\n",
    "subset1.describe()"
   ]
  },
  {
   "cell_type": "code",
   "execution_count": 27,
   "id": "0cdf7c10",
   "metadata": {},
   "outputs": [
    {
     "name": "stdout",
     "output_type": "stream",
     "text": [
      "The average loan amount sanctioned for a black male by the bank is:143.25 pounds\n"
     ]
    }
   ],
   "source": [
    "#Presenting the descriptive statistics on the above created subset\n",
    "mean1=subset1.mean()\n",
    "print(f\"The average loan amount sanctioned for a black male by the bank is:{round(mean1,2)} pounds\")"
   ]
  },
  {
   "cell_type": "markdown",
   "id": "d8459970",
   "metadata": {},
   "source": [
    "<font color='blue'>The following code creates a subset of Loan Amount data for all the black females in the population</font>"
   ]
  },
  {
   "cell_type": "code",
   "execution_count": 28,
   "id": "553983f1",
   "metadata": {},
   "outputs": [
    {
     "data": {
      "text/plain": [
       "count     51.000000\n",
       "mean     116.137255\n",
       "std       40.196527\n",
       "min       40.000000\n",
       "25%       91.000000\n",
       "50%      112.000000\n",
       "75%      132.000000\n",
       "max      280.000000\n",
       "Name: loan_amount, dtype: float64"
      ]
     },
     "execution_count": 28,
     "metadata": {},
     "output_type": "execute_result"
    }
   ],
   "source": [
    "subset2=df[(df['race']=='black')  & (df['gender'] == 'female')]['loan_amount']\n",
    "subset2.describe()"
   ]
  },
  {
   "cell_type": "code",
   "execution_count": 29,
   "id": "b07d30c6",
   "metadata": {},
   "outputs": [
    {
     "name": "stdout",
     "output_type": "stream",
     "text": [
      "The average loan amount sanctioned for a black female by the bank is:116.14 pounds\n"
     ]
    }
   ],
   "source": [
    "#Presenting the descriptive statistics on the above created subset\n",
    "mean2=subset2.mean()\n",
    "print(f\"The average loan amount sanctioned for a black female by the bank is:{round(mean2,2)} pounds\")"
   ]
  },
  {
   "cell_type": "markdown",
   "id": "59fa9554",
   "metadata": {},
   "source": [
    "# Step 8"
   ]
  },
  {
   "cell_type": "markdown",
   "id": "dfb8b103",
   "metadata": {},
   "source": [
    "<font color='blue'>To determine the difference between the means of two subsets of the data, we must independent two-sample t-test.\n",
    "\n",
    "Independent two sample t_test is used as it compares whether the average difference between two groups is really significant or if it is due to random chance.\n",
    "\n",
    "\n",
    "Null Hypothesis--> H0: 'No' significant difference between the means of the two subset(Are equal).\n",
    "\n",
    "Alternative Hypothesis--> H1: Significant difference between the means of the two subset(\"Not\" equal).\n",
    "Test Choosen: independent two-sample t-test</font>"
   ]
  },
  {
   "cell_type": "code",
   "execution_count": 30,
   "id": "f4e47aa0",
   "metadata": {},
   "outputs": [
    {
     "name": "stdout",
     "output_type": "stream",
     "text": [
      "t_val=2.5136935150859587 and p_val=0.012756571193785284\n"
     ]
    }
   ],
   "source": [
    "#conducting independent sample t test to find the difference in means of the subsets\n",
    "t_val,p_val=stats.ttest_ind(subset1,subset2)\n",
    "print(f't_val={t_val} and p_val={p_val}')"
   ]
  },
  {
   "cell_type": "markdown",
   "id": "d27858b5",
   "metadata": {},
   "source": [
    "If p_val>alpha: Failed to reject the Null Hypothesis\n",
    "\n",
    "If p_val<alpha: Reject the Null Hypothesis<\\font>"
   ]
  },
  {
   "cell_type": "code",
   "execution_count": 31,
   "id": "2669dfe2",
   "metadata": {},
   "outputs": [
    {
     "name": "stdout",
     "output_type": "stream",
     "text": [
      "Reject the Null hypothesis.Hence, Significant difference between the means of the two subset.\n"
     ]
    }
   ],
   "source": [
    "\"\"\"Comparing the P-value with level of significance, \n",
    "in order to take a decision on Rejecting the Null Hypothesis or Failing to reject the Null Hypothesis\"\"\"\n",
    "\n",
    "level_of_significance=0.05\n",
    "if p_val>level_of_significance:\n",
    "    print('Failed to reject the Null hypothesis.Hence, \"No\" significant difference between the means of the two subset')\n",
    "else:\n",
    "    print(\"Reject the Null hypothesis.Hence, Significant difference between the means of the two subset.\")"
   ]
  },
  {
   "cell_type": "markdown",
   "id": "6b0d93c3",
   "metadata": {},
   "source": [
    "<font color='blue'>We can see that the p value is smaller than the significance value,Hence we reject the Null hypothesis.\n",
    "    \n",
    "Here (µ1 ≠ µ2).So we can infer that, the average loan amount sanctioned by the bank for a black male and average loan amount sanctioned by the bank for a black female have a significant difference.</font>"
   ]
  },
  {
   "cell_type": "markdown",
   "id": "b8a19112",
   "metadata": {},
   "source": [
    "# Step 9"
   ]
  },
  {
   "cell_type": "code",
   "execution_count": 32,
   "id": "0663360a",
   "metadata": {},
   "outputs": [
    {
     "data": {
      "text/html": [
       "<div>\n",
       "<style scoped>\n",
       "    .dataframe tbody tr th:only-of-type {\n",
       "        vertical-align: middle;\n",
       "    }\n",
       "\n",
       "    .dataframe tbody tr th {\n",
       "        vertical-align: top;\n",
       "    }\n",
       "\n",
       "    .dataframe thead th {\n",
       "        text-align: right;\n",
       "    }\n",
       "</style>\n",
       "<table border=\"1\" class=\"dataframe\">\n",
       "  <thead>\n",
       "    <tr style=\"text-align: right;\">\n",
       "      <th></th>\n",
       "      <th>married</th>\n",
       "      <th>race</th>\n",
       "      <th>loan_decision</th>\n",
       "      <th>occupancy</th>\n",
       "      <th>loan_amount</th>\n",
       "      <th>applicant_income</th>\n",
       "      <th>num_units</th>\n",
       "      <th>num_dependants</th>\n",
       "      <th>self_employed</th>\n",
       "      <th>monthly_income</th>\n",
       "      <th>purchase_price</th>\n",
       "      <th>liquid_assets</th>\n",
       "      <th>mortage_payment_history</th>\n",
       "      <th>consumer_credit_history</th>\n",
       "      <th>filed_bankruptcy</th>\n",
       "      <th>property_type</th>\n",
       "      <th>gender</th>\n",
       "    </tr>\n",
       "  </thead>\n",
       "  <tbody>\n",
       "    <tr>\n",
       "      <th>0</th>\n",
       "      <td>True</td>\n",
       "      <td>white</td>\n",
       "      <td>reject</td>\n",
       "      <td>1</td>\n",
       "      <td>128</td>\n",
       "      <td>74</td>\n",
       "      <td>1.0</td>\n",
       "      <td>1.0</td>\n",
       "      <td>False</td>\n",
       "      <td>4583</td>\n",
       "      <td>160.0</td>\n",
       "      <td>52.0</td>\n",
       "      <td>2</td>\n",
       "      <td>2</td>\n",
       "      <td>False</td>\n",
       "      <td>2</td>\n",
       "      <td>male</td>\n",
       "    </tr>\n",
       "    <tr>\n",
       "      <th>1</th>\n",
       "      <td>False</td>\n",
       "      <td>white</td>\n",
       "      <td>approve</td>\n",
       "      <td>1</td>\n",
       "      <td>128</td>\n",
       "      <td>84</td>\n",
       "      <td>1.0</td>\n",
       "      <td>0.0</td>\n",
       "      <td>False</td>\n",
       "      <td>2666</td>\n",
       "      <td>143.0</td>\n",
       "      <td>37.0</td>\n",
       "      <td>2</td>\n",
       "      <td>2</td>\n",
       "      <td>False</td>\n",
       "      <td>2</td>\n",
       "      <td>male</td>\n",
       "    </tr>\n",
       "    <tr>\n",
       "      <th>2</th>\n",
       "      <td>True</td>\n",
       "      <td>white</td>\n",
       "      <td>approve</td>\n",
       "      <td>1</td>\n",
       "      <td>66</td>\n",
       "      <td>36</td>\n",
       "      <td>1.0</td>\n",
       "      <td>0.0</td>\n",
       "      <td>True</td>\n",
       "      <td>3000</td>\n",
       "      <td>110.0</td>\n",
       "      <td>19.0</td>\n",
       "      <td>2</td>\n",
       "      <td>6</td>\n",
       "      <td>True</td>\n",
       "      <td>2</td>\n",
       "      <td>male</td>\n",
       "    </tr>\n",
       "    <tr>\n",
       "      <th>3</th>\n",
       "      <td>True</td>\n",
       "      <td>white</td>\n",
       "      <td>approve</td>\n",
       "      <td>1</td>\n",
       "      <td>120</td>\n",
       "      <td>59</td>\n",
       "      <td>1.0</td>\n",
       "      <td>0.0</td>\n",
       "      <td>False</td>\n",
       "      <td>2583</td>\n",
       "      <td>134.0</td>\n",
       "      <td>31.0</td>\n",
       "      <td>2</td>\n",
       "      <td>1</td>\n",
       "      <td>False</td>\n",
       "      <td>1</td>\n",
       "      <td>male</td>\n",
       "    </tr>\n",
       "    <tr>\n",
       "      <th>4</th>\n",
       "      <td>False</td>\n",
       "      <td>white</td>\n",
       "      <td>approve</td>\n",
       "      <td>1</td>\n",
       "      <td>111</td>\n",
       "      <td>63</td>\n",
       "      <td>1.0</td>\n",
       "      <td>0.0</td>\n",
       "      <td>False</td>\n",
       "      <td>2208</td>\n",
       "      <td>138.0</td>\n",
       "      <td>169.0</td>\n",
       "      <td>2</td>\n",
       "      <td>6</td>\n",
       "      <td>False</td>\n",
       "      <td>2</td>\n",
       "      <td>male</td>\n",
       "    </tr>\n",
       "    <tr>\n",
       "      <th>...</th>\n",
       "      <td>...</td>\n",
       "      <td>...</td>\n",
       "      <td>...</td>\n",
       "      <td>...</td>\n",
       "      <td>...</td>\n",
       "      <td>...</td>\n",
       "      <td>...</td>\n",
       "      <td>...</td>\n",
       "      <td>...</td>\n",
       "      <td>...</td>\n",
       "      <td>...</td>\n",
       "      <td>...</td>\n",
       "      <td>...</td>\n",
       "      <td>...</td>\n",
       "      <td>...</td>\n",
       "      <td>...</td>\n",
       "      <td>...</td>\n",
       "    </tr>\n",
       "    <tr>\n",
       "      <th>1983</th>\n",
       "      <td>True</td>\n",
       "      <td>white</td>\n",
       "      <td>approve</td>\n",
       "      <td>1</td>\n",
       "      <td>158</td>\n",
       "      <td>96</td>\n",
       "      <td>1.0</td>\n",
       "      <td>0.0</td>\n",
       "      <td>False</td>\n",
       "      <td>5000</td>\n",
       "      <td>176.0</td>\n",
       "      <td>15.0</td>\n",
       "      <td>2</td>\n",
       "      <td>1</td>\n",
       "      <td>False</td>\n",
       "      <td>2</td>\n",
       "      <td>male</td>\n",
       "    </tr>\n",
       "    <tr>\n",
       "      <th>1984</th>\n",
       "      <td>True</td>\n",
       "      <td>white</td>\n",
       "      <td>approve</td>\n",
       "      <td>1</td>\n",
       "      <td>35</td>\n",
       "      <td>169</td>\n",
       "      <td>1.0</td>\n",
       "      <td>0.0</td>\n",
       "      <td>False</td>\n",
       "      <td>9583</td>\n",
       "      <td>315.0</td>\n",
       "      <td>64.0</td>\n",
       "      <td>1</td>\n",
       "      <td>1</td>\n",
       "      <td>False</td>\n",
       "      <td>1</td>\n",
       "      <td>male</td>\n",
       "    </tr>\n",
       "    <tr>\n",
       "      <th>1985</th>\n",
       "      <td>True</td>\n",
       "      <td>white</td>\n",
       "      <td>approve</td>\n",
       "      <td>2</td>\n",
       "      <td>225</td>\n",
       "      <td>49</td>\n",
       "      <td>2.0</td>\n",
       "      <td>0.0</td>\n",
       "      <td>True</td>\n",
       "      <td>4159</td>\n",
       "      <td>225.0</td>\n",
       "      <td>10.0</td>\n",
       "      <td>2</td>\n",
       "      <td>1</td>\n",
       "      <td>False</td>\n",
       "      <td>3</td>\n",
       "      <td>male</td>\n",
       "    </tr>\n",
       "    <tr>\n",
       "      <th>1986</th>\n",
       "      <td>False</td>\n",
       "      <td>white</td>\n",
       "      <td>approve</td>\n",
       "      <td>1</td>\n",
       "      <td>98</td>\n",
       "      <td>110</td>\n",
       "      <td>1.0</td>\n",
       "      <td>0.0</td>\n",
       "      <td>True</td>\n",
       "      <td>9200</td>\n",
       "      <td>215.0</td>\n",
       "      <td>427.9</td>\n",
       "      <td>1</td>\n",
       "      <td>1</td>\n",
       "      <td>False</td>\n",
       "      <td>1</td>\n",
       "      <td>male</td>\n",
       "    </tr>\n",
       "    <tr>\n",
       "      <th>1987</th>\n",
       "      <td>False</td>\n",
       "      <td>black</td>\n",
       "      <td>reject</td>\n",
       "      <td>1</td>\n",
       "      <td>133</td>\n",
       "      <td>55</td>\n",
       "      <td>1.0</td>\n",
       "      <td>0.0</td>\n",
       "      <td>True</td>\n",
       "      <td>4583</td>\n",
       "      <td>148.0</td>\n",
       "      <td>24.5</td>\n",
       "      <td>2</td>\n",
       "      <td>3</td>\n",
       "      <td>False</td>\n",
       "      <td>2</td>\n",
       "      <td>female</td>\n",
       "    </tr>\n",
       "  </tbody>\n",
       "</table>\n",
       "<p>1987 rows × 17 columns</p>\n",
       "</div>"
      ],
      "text/plain": [
       "      married   race loan_decision  occupancy  loan_amount  applicant_income  \\\n",
       "0        True  white        reject          1          128                74   \n",
       "1       False  white       approve          1          128                84   \n",
       "2        True  white       approve          1           66                36   \n",
       "3        True  white       approve          1          120                59   \n",
       "4       False  white       approve          1          111                63   \n",
       "...       ...    ...           ...        ...          ...               ...   \n",
       "1983     True  white       approve          1          158                96   \n",
       "1984     True  white       approve          1           35               169   \n",
       "1985     True  white       approve          2          225                49   \n",
       "1986    False  white       approve          1           98               110   \n",
       "1987    False  black        reject          1          133                55   \n",
       "\n",
       "      num_units  num_dependants  self_employed  monthly_income  \\\n",
       "0           1.0             1.0          False            4583   \n",
       "1           1.0             0.0          False            2666   \n",
       "2           1.0             0.0           True            3000   \n",
       "3           1.0             0.0          False            2583   \n",
       "4           1.0             0.0          False            2208   \n",
       "...         ...             ...            ...             ...   \n",
       "1983        1.0             0.0          False            5000   \n",
       "1984        1.0             0.0          False            9583   \n",
       "1985        2.0             0.0           True            4159   \n",
       "1986        1.0             0.0           True            9200   \n",
       "1987        1.0             0.0           True            4583   \n",
       "\n",
       "      purchase_price  liquid_assets  mortage_payment_history  \\\n",
       "0              160.0           52.0                        2   \n",
       "1              143.0           37.0                        2   \n",
       "2              110.0           19.0                        2   \n",
       "3              134.0           31.0                        2   \n",
       "4              138.0          169.0                        2   \n",
       "...              ...            ...                      ...   \n",
       "1983           176.0           15.0                        2   \n",
       "1984           315.0           64.0                        1   \n",
       "1985           225.0           10.0                        2   \n",
       "1986           215.0          427.9                        1   \n",
       "1987           148.0           24.5                        2   \n",
       "\n",
       "      consumer_credit_history  filed_bankruptcy  property_type  gender  \n",
       "0                           2             False              2    male  \n",
       "1                           2             False              2    male  \n",
       "2                           6              True              2    male  \n",
       "3                           1             False              1    male  \n",
       "4                           6             False              2    male  \n",
       "...                       ...               ...            ...     ...  \n",
       "1983                        1             False              2    male  \n",
       "1984                        1             False              1    male  \n",
       "1985                        1             False              3    male  \n",
       "1986                        1             False              1    male  \n",
       "1987                        3             False              2  female  \n",
       "\n",
       "[1987 rows x 17 columns]"
      ]
     },
     "execution_count": 32,
     "metadata": {},
     "output_type": "execute_result"
    }
   ],
   "source": [
    "df"
   ]
  },
  {
   "cell_type": "code",
   "execution_count": 33,
   "id": "4b1d61c3",
   "metadata": {},
   "outputs": [
    {
     "data": {
      "text/html": [
       "<div>\n",
       "<style scoped>\n",
       "    .dataframe tbody tr th:only-of-type {\n",
       "        vertical-align: middle;\n",
       "    }\n",
       "\n",
       "    .dataframe tbody tr th {\n",
       "        vertical-align: top;\n",
       "    }\n",
       "\n",
       "    .dataframe thead tr th {\n",
       "        text-align: left;\n",
       "    }\n",
       "\n",
       "    .dataframe thead tr:last-of-type th {\n",
       "        text-align: right;\n",
       "    }\n",
       "</style>\n",
       "<table border=\"1\" class=\"dataframe\">\n",
       "  <thead>\n",
       "    <tr>\n",
       "      <th></th>\n",
       "      <th></th>\n",
       "      <th colspan=\"2\" halign=\"left\">loan_amount</th>\n",
       "    </tr>\n",
       "    <tr>\n",
       "      <th></th>\n",
       "      <th></th>\n",
       "      <th>median</th>\n",
       "      <th>mean</th>\n",
       "    </tr>\n",
       "    <tr>\n",
       "      <th>married</th>\n",
       "      <th>filed_bankruptcy</th>\n",
       "      <th></th>\n",
       "      <th></th>\n",
       "    </tr>\n",
       "  </thead>\n",
       "  <tbody>\n",
       "    <tr>\n",
       "      <th rowspan=\"2\" valign=\"top\">False</th>\n",
       "      <th>False</th>\n",
       "      <td>115.0</td>\n",
       "      <td>121.340223</td>\n",
       "    </tr>\n",
       "    <tr>\n",
       "      <th>True</th>\n",
       "      <td>120.0</td>\n",
       "      <td>142.829787</td>\n",
       "    </tr>\n",
       "    <tr>\n",
       "      <th rowspan=\"2\" valign=\"top\">True</th>\n",
       "      <th>False</th>\n",
       "      <td>132.0</td>\n",
       "      <td>153.671581</td>\n",
       "    </tr>\n",
       "    <tr>\n",
       "      <th>True</th>\n",
       "      <td>139.0</td>\n",
       "      <td>155.788889</td>\n",
       "    </tr>\n",
       "  </tbody>\n",
       "</table>\n",
       "</div>"
      ],
      "text/plain": [
       "                         loan_amount            \n",
       "                              median        mean\n",
       "married filed_bankruptcy                        \n",
       "False   False                  115.0  121.340223\n",
       "        True                   120.0  142.829787\n",
       "True    False                  132.0  153.671581\n",
       "        True                   139.0  155.788889"
      ]
     },
     "execution_count": 33,
     "metadata": {},
     "output_type": "execute_result"
    }
   ],
   "source": [
    "'''The following code groups the data considering the married \n",
    "and the filed bankruptcy attributtes and displays the mean and median of loan_amount feature of the data'''\n",
    "group1 = df.groupby(['married','filed_bankruptcy']).aggregate({'loan_amount':['median','mean']})\n",
    "group1"
   ]
  },
  {
   "cell_type": "markdown",
   "id": "33a73c80",
   "metadata": {},
   "source": [
    "<font color='blue'>The above table includes the mean and median values of all the columns with respcet to the groups made on the married and filed_bankruptcy categorical variable. "
   ]
  },
  {
   "cell_type": "code",
   "execution_count": 34,
   "id": "5e5b481a",
   "metadata": {},
   "outputs": [
    {
     "data": {
      "text/html": [
       "<div>\n",
       "<style scoped>\n",
       "    .dataframe tbody tr th:only-of-type {\n",
       "        vertical-align: middle;\n",
       "    }\n",
       "\n",
       "    .dataframe tbody tr th {\n",
       "        vertical-align: top;\n",
       "    }\n",
       "\n",
       "    .dataframe thead th {\n",
       "        text-align: right;\n",
       "    }\n",
       "</style>\n",
       "<table border=\"1\" class=\"dataframe\">\n",
       "  <thead>\n",
       "    <tr style=\"text-align: right;\">\n",
       "      <th></th>\n",
       "      <th></th>\n",
       "      <th>race</th>\n",
       "      <th>loan_decision</th>\n",
       "      <th>occupancy</th>\n",
       "      <th>loan_amount</th>\n",
       "      <th>applicant_income</th>\n",
       "      <th>num_units</th>\n",
       "      <th>num_dependants</th>\n",
       "      <th>self_employed</th>\n",
       "      <th>monthly_income</th>\n",
       "      <th>purchase_price</th>\n",
       "      <th>liquid_assets</th>\n",
       "      <th>mortage_payment_history</th>\n",
       "      <th>consumer_credit_history</th>\n",
       "      <th>property_type</th>\n",
       "      <th>gender</th>\n",
       "    </tr>\n",
       "    <tr>\n",
       "      <th>married</th>\n",
       "      <th>filed_bankruptcy</th>\n",
       "      <th></th>\n",
       "      <th></th>\n",
       "      <th></th>\n",
       "      <th></th>\n",
       "      <th></th>\n",
       "      <th></th>\n",
       "      <th></th>\n",
       "      <th></th>\n",
       "      <th></th>\n",
       "      <th></th>\n",
       "      <th></th>\n",
       "      <th></th>\n",
       "      <th></th>\n",
       "      <th></th>\n",
       "      <th></th>\n",
       "    </tr>\n",
       "  </thead>\n",
       "  <tbody>\n",
       "    <tr>\n",
       "      <th rowspan=\"2\" valign=\"top\">False</th>\n",
       "      <th>False</th>\n",
       "      <td>629</td>\n",
       "      <td>629</td>\n",
       "      <td>629</td>\n",
       "      <td>629</td>\n",
       "      <td>629</td>\n",
       "      <td>629</td>\n",
       "      <td>629</td>\n",
       "      <td>629</td>\n",
       "      <td>629</td>\n",
       "      <td>629</td>\n",
       "      <td>629</td>\n",
       "      <td>629</td>\n",
       "      <td>629</td>\n",
       "      <td>629</td>\n",
       "      <td>629</td>\n",
       "    </tr>\n",
       "    <tr>\n",
       "      <th>True</th>\n",
       "      <td>47</td>\n",
       "      <td>47</td>\n",
       "      <td>47</td>\n",
       "      <td>47</td>\n",
       "      <td>47</td>\n",
       "      <td>47</td>\n",
       "      <td>47</td>\n",
       "      <td>47</td>\n",
       "      <td>47</td>\n",
       "      <td>47</td>\n",
       "      <td>47</td>\n",
       "      <td>47</td>\n",
       "      <td>47</td>\n",
       "      <td>47</td>\n",
       "      <td>47</td>\n",
       "    </tr>\n",
       "    <tr>\n",
       "      <th rowspan=\"2\" valign=\"top\">True</th>\n",
       "      <th>False</th>\n",
       "      <td>1221</td>\n",
       "      <td>1221</td>\n",
       "      <td>1221</td>\n",
       "      <td>1221</td>\n",
       "      <td>1221</td>\n",
       "      <td>1221</td>\n",
       "      <td>1221</td>\n",
       "      <td>1221</td>\n",
       "      <td>1221</td>\n",
       "      <td>1221</td>\n",
       "      <td>1221</td>\n",
       "      <td>1221</td>\n",
       "      <td>1221</td>\n",
       "      <td>1221</td>\n",
       "      <td>1221</td>\n",
       "    </tr>\n",
       "    <tr>\n",
       "      <th>True</th>\n",
       "      <td>90</td>\n",
       "      <td>90</td>\n",
       "      <td>90</td>\n",
       "      <td>90</td>\n",
       "      <td>90</td>\n",
       "      <td>90</td>\n",
       "      <td>90</td>\n",
       "      <td>90</td>\n",
       "      <td>90</td>\n",
       "      <td>90</td>\n",
       "      <td>90</td>\n",
       "      <td>90</td>\n",
       "      <td>90</td>\n",
       "      <td>90</td>\n",
       "      <td>90</td>\n",
       "    </tr>\n",
       "  </tbody>\n",
       "</table>\n",
       "</div>"
      ],
      "text/plain": [
       "                          race  loan_decision  occupancy  loan_amount  \\\n",
       "married filed_bankruptcy                                                \n",
       "False   False              629            629        629          629   \n",
       "        True                47             47         47           47   \n",
       "True    False             1221           1221       1221         1221   \n",
       "        True                90             90         90           90   \n",
       "\n",
       "                          applicant_income  num_units  num_dependants  \\\n",
       "married filed_bankruptcy                                                \n",
       "False   False                          629        629             629   \n",
       "        True                            47         47              47   \n",
       "True    False                         1221       1221            1221   \n",
       "        True                            90         90              90   \n",
       "\n",
       "                          self_employed  monthly_income  purchase_price  \\\n",
       "married filed_bankruptcy                                                  \n",
       "False   False                       629             629             629   \n",
       "        True                         47              47              47   \n",
       "True    False                      1221            1221            1221   \n",
       "        True                         90              90              90   \n",
       "\n",
       "                          liquid_assets  mortage_payment_history  \\\n",
       "married filed_bankruptcy                                           \n",
       "False   False                       629                      629   \n",
       "        True                         47                       47   \n",
       "True    False                      1221                     1221   \n",
       "        True                         90                       90   \n",
       "\n",
       "                          consumer_credit_history  property_type  gender  \n",
       "married filed_bankruptcy                                                  \n",
       "False   False                                 629            629     629  \n",
       "        True                                   47             47      47  \n",
       "True    False                                1221           1221    1221  \n",
       "        True                                   90             90      90  "
      ]
     },
     "execution_count": 34,
     "metadata": {},
     "output_type": "execute_result"
    }
   ],
   "source": [
    "'''The following code groups the data considering the married \n",
    "and the filed bankruptcy attributtes and displays the count of each table'''\n",
    "df.groupby(['married','filed_bankruptcy']).count()"
   ]
  },
  {
   "cell_type": "markdown",
   "id": "d4904217",
   "metadata": {},
   "source": [
    "<font color='blue'>The above table includes the count of all the columns with respcet to the groups made on the married and filed_bankruptcy categorical variable."
   ]
  },
  {
   "cell_type": "markdown",
   "id": "aa81a690",
   "metadata": {},
   "source": [
    "# Step 10"
   ]
  },
  {
   "cell_type": "markdown",
   "id": "b4aa307d",
   "metadata": {},
   "source": [
    "<font color='blue'>replace() method just replaces the categories with the desired numbers. This enables us to consider the categorical variables in the multiple linear regression model."
   ]
  },
  {
   "cell_type": "code",
   "execution_count": 35,
   "id": "3412b405",
   "metadata": {},
   "outputs": [
    {
     "data": {
      "text/html": [
       "<div>\n",
       "<style scoped>\n",
       "    .dataframe tbody tr th:only-of-type {\n",
       "        vertical-align: middle;\n",
       "    }\n",
       "\n",
       "    .dataframe tbody tr th {\n",
       "        vertical-align: top;\n",
       "    }\n",
       "\n",
       "    .dataframe thead th {\n",
       "        text-align: right;\n",
       "    }\n",
       "</style>\n",
       "<table border=\"1\" class=\"dataframe\">\n",
       "  <thead>\n",
       "    <tr style=\"text-align: right;\">\n",
       "      <th></th>\n",
       "      <th>married</th>\n",
       "      <th>race</th>\n",
       "      <th>loan_decision</th>\n",
       "      <th>occupancy</th>\n",
       "      <th>loan_amount</th>\n",
       "      <th>applicant_income</th>\n",
       "      <th>num_units</th>\n",
       "      <th>num_dependants</th>\n",
       "      <th>self_employed</th>\n",
       "      <th>monthly_income</th>\n",
       "      <th>purchase_price</th>\n",
       "      <th>liquid_assets</th>\n",
       "      <th>mortage_payment_history</th>\n",
       "      <th>consumer_credit_history</th>\n",
       "      <th>filed_bankruptcy</th>\n",
       "      <th>property_type</th>\n",
       "      <th>gender</th>\n",
       "    </tr>\n",
       "  </thead>\n",
       "  <tbody>\n",
       "    <tr>\n",
       "      <th>0</th>\n",
       "      <td>1</td>\n",
       "      <td>0</td>\n",
       "      <td>0</td>\n",
       "      <td>1</td>\n",
       "      <td>128</td>\n",
       "      <td>74</td>\n",
       "      <td>1.0</td>\n",
       "      <td>1.0</td>\n",
       "      <td>0</td>\n",
       "      <td>4583</td>\n",
       "      <td>160.0</td>\n",
       "      <td>52.0</td>\n",
       "      <td>2</td>\n",
       "      <td>2</td>\n",
       "      <td>0</td>\n",
       "      <td>2</td>\n",
       "      <td>1</td>\n",
       "    </tr>\n",
       "    <tr>\n",
       "      <th>1</th>\n",
       "      <td>0</td>\n",
       "      <td>0</td>\n",
       "      <td>1</td>\n",
       "      <td>1</td>\n",
       "      <td>128</td>\n",
       "      <td>84</td>\n",
       "      <td>1.0</td>\n",
       "      <td>0.0</td>\n",
       "      <td>0</td>\n",
       "      <td>2666</td>\n",
       "      <td>143.0</td>\n",
       "      <td>37.0</td>\n",
       "      <td>2</td>\n",
       "      <td>2</td>\n",
       "      <td>0</td>\n",
       "      <td>2</td>\n",
       "      <td>1</td>\n",
       "    </tr>\n",
       "    <tr>\n",
       "      <th>2</th>\n",
       "      <td>1</td>\n",
       "      <td>0</td>\n",
       "      <td>1</td>\n",
       "      <td>1</td>\n",
       "      <td>66</td>\n",
       "      <td>36</td>\n",
       "      <td>1.0</td>\n",
       "      <td>0.0</td>\n",
       "      <td>1</td>\n",
       "      <td>3000</td>\n",
       "      <td>110.0</td>\n",
       "      <td>19.0</td>\n",
       "      <td>2</td>\n",
       "      <td>6</td>\n",
       "      <td>1</td>\n",
       "      <td>2</td>\n",
       "      <td>1</td>\n",
       "    </tr>\n",
       "    <tr>\n",
       "      <th>3</th>\n",
       "      <td>1</td>\n",
       "      <td>0</td>\n",
       "      <td>1</td>\n",
       "      <td>1</td>\n",
       "      <td>120</td>\n",
       "      <td>59</td>\n",
       "      <td>1.0</td>\n",
       "      <td>0.0</td>\n",
       "      <td>0</td>\n",
       "      <td>2583</td>\n",
       "      <td>134.0</td>\n",
       "      <td>31.0</td>\n",
       "      <td>2</td>\n",
       "      <td>1</td>\n",
       "      <td>0</td>\n",
       "      <td>1</td>\n",
       "      <td>1</td>\n",
       "    </tr>\n",
       "    <tr>\n",
       "      <th>4</th>\n",
       "      <td>0</td>\n",
       "      <td>0</td>\n",
       "      <td>1</td>\n",
       "      <td>1</td>\n",
       "      <td>111</td>\n",
       "      <td>63</td>\n",
       "      <td>1.0</td>\n",
       "      <td>0.0</td>\n",
       "      <td>0</td>\n",
       "      <td>2208</td>\n",
       "      <td>138.0</td>\n",
       "      <td>169.0</td>\n",
       "      <td>2</td>\n",
       "      <td>6</td>\n",
       "      <td>0</td>\n",
       "      <td>2</td>\n",
       "      <td>1</td>\n",
       "    </tr>\n",
       "  </tbody>\n",
       "</table>\n",
       "</div>"
      ],
      "text/plain": [
       "   married race  loan_decision  occupancy  loan_amount  applicant_income  \\\n",
       "0        1    0              0          1          128                74   \n",
       "1        0    0              1          1          128                84   \n",
       "2        1    0              1          1           66                36   \n",
       "3        1    0              1          1          120                59   \n",
       "4        0    0              1          1          111                63   \n",
       "\n",
       "   num_units  num_dependants  self_employed  monthly_income  purchase_price  \\\n",
       "0        1.0             1.0              0            4583           160.0   \n",
       "1        1.0             0.0              0            2666           143.0   \n",
       "2        1.0             0.0              1            3000           110.0   \n",
       "3        1.0             0.0              0            2583           134.0   \n",
       "4        1.0             0.0              0            2208           138.0   \n",
       "\n",
       "   liquid_assets  mortage_payment_history  consumer_credit_history  \\\n",
       "0           52.0                        2                        2   \n",
       "1           37.0                        2                        2   \n",
       "2           19.0                        2                        6   \n",
       "3           31.0                        2                        1   \n",
       "4          169.0                        2                        6   \n",
       "\n",
       "   filed_bankruptcy  property_type  gender  \n",
       "0                 0              2       1  \n",
       "1                 0              2       1  \n",
       "2                 1              2       1  \n",
       "3                 0              1       1  \n",
       "4                 0              2       1  "
      ]
     },
     "execution_count": 35,
     "metadata": {},
     "output_type": "execute_result"
    }
   ],
   "source": [
    "#Encoding the categorical features to numeric quantities.\n",
    "df[\"married\"].replace({True: 1, False: 0}, inplace=True)\n",
    "df[\"race\"].replace({\"white\": 0, \"black\": 1,\"hispanic\": 2}, inplace=True)\n",
    "df[\"loan_decision\"].replace({\"approve\": 1, \"reject\": 0}, inplace=True)\n",
    "df[\"self_employed\"].replace({True: 1, False: 0}, inplace=True)\n",
    "df[\"filed_bankruptcy\"].replace({True: 1, False: 0}, inplace=True)\n",
    "df[\"gender\"].replace({\"male\": 1, \"female\": 0}, inplace=True)\n",
    "df.head()"
   ]
  },
  {
   "cell_type": "code",
   "execution_count": 36,
   "id": "c3021366",
   "metadata": {},
   "outputs": [],
   "source": [
    "#Importing Stats Library for building the Linear Regression Model\n",
    "import statsmodels.api as sm"
   ]
  },
  {
   "cell_type": "code",
   "execution_count": 37,
   "id": "a51bf5ca",
   "metadata": {},
   "outputs": [],
   "source": [
    "model = sm.OLS.from_formula(\n",
    "    'loan_amount ~ married+applicant_income+mortage_payment_history\t+purchase_price+filed_bankruptcy', data=df).fit()"
   ]
  },
  {
   "cell_type": "code",
   "execution_count": 38,
   "id": "a4ae66fe",
   "metadata": {},
   "outputs": [
    {
     "data": {
      "text/html": [
       "<table class=\"simpletable\">\n",
       "<caption>OLS Regression Results</caption>\n",
       "<tr>\n",
       "  <th>Dep. Variable:</th>       <td>loan_amount</td>   <th>  R-squared:         </th> <td>   0.702</td> \n",
       "</tr>\n",
       "<tr>\n",
       "  <th>Model:</th>                   <td>OLS</td>       <th>  Adj. R-squared:    </th> <td>   0.702</td> \n",
       "</tr>\n",
       "<tr>\n",
       "  <th>Method:</th>             <td>Least Squares</td>  <th>  F-statistic:       </th> <td>   935.1</td> \n",
       "</tr>\n",
       "<tr>\n",
       "  <th>Date:</th>             <td>Thu, 07 Dec 2023</td> <th>  Prob (F-statistic):</th>  <td>  0.00</td>  \n",
       "</tr>\n",
       "<tr>\n",
       "  <th>Time:</th>                 <td>00:15:03</td>     <th>  Log-Likelihood:    </th> <td> -10336.</td> \n",
       "</tr>\n",
       "<tr>\n",
       "  <th>No. Observations:</th>      <td>  1987</td>      <th>  AIC:               </th> <td>2.068e+04</td>\n",
       "</tr>\n",
       "<tr>\n",
       "  <th>Df Residuals:</th>          <td>  1981</td>      <th>  BIC:               </th> <td>2.072e+04</td>\n",
       "</tr>\n",
       "<tr>\n",
       "  <th>Df Model:</th>              <td>     5</td>      <th>                     </th>     <td> </td>    \n",
       "</tr>\n",
       "<tr>\n",
       "  <th>Covariance Type:</th>      <td>nonrobust</td>    <th>                     </th>     <td> </td>    \n",
       "</tr>\n",
       "</table>\n",
       "<table class=\"simpletable\">\n",
       "<tr>\n",
       "             <td></td>                <th>coef</th>     <th>std err</th>      <th>t</th>      <th>P>|t|</th>  <th>[0.025</th>    <th>0.975]</th>  \n",
       "</tr>\n",
       "<tr>\n",
       "  <th>Intercept</th>               <td>   33.1604</td> <td>    4.133</td> <td>    8.023</td> <td> 0.000</td> <td>   25.054</td> <td>   41.266</td>\n",
       "</tr>\n",
       "<tr>\n",
       "  <th>married</th>                 <td>    5.8582</td> <td>    2.131</td> <td>    2.749</td> <td> 0.006</td> <td>    1.679</td> <td>   10.038</td>\n",
       "</tr>\n",
       "<tr>\n",
       "  <th>applicant_income</th>        <td>    0.0645</td> <td>    0.013</td> <td>    5.072</td> <td> 0.000</td> <td>    0.040</td> <td>    0.089</td>\n",
       "</tr>\n",
       "<tr>\n",
       "  <th>mortage_payment_history</th> <td>    0.9794</td> <td>    1.829</td> <td>    0.536</td> <td> 0.592</td> <td>   -2.607</td> <td>    4.566</td>\n",
       "</tr>\n",
       "<tr>\n",
       "  <th>purchase_price</th>          <td>    0.5017</td> <td>    0.009</td> <td>   56.646</td> <td> 0.000</td> <td>    0.484</td> <td>    0.519</td>\n",
       "</tr>\n",
       "<tr>\n",
       "  <th>filed_bankruptcy</th>        <td>    8.8855</td> <td>    3.910</td> <td>    2.272</td> <td> 0.023</td> <td>    1.217</td> <td>   16.554</td>\n",
       "</tr>\n",
       "</table>\n",
       "<table class=\"simpletable\">\n",
       "<tr>\n",
       "  <th>Omnibus:</th>       <td>805.625</td> <th>  Durbin-Watson:     </th> <td>   1.982</td> \n",
       "</tr>\n",
       "<tr>\n",
       "  <th>Prob(Omnibus):</th> <td> 0.000</td>  <th>  Jarque-Bera (JB):  </th> <td>86617.783</td>\n",
       "</tr>\n",
       "<tr>\n",
       "  <th>Skew:</th>          <td>-0.918</td>  <th>  Prob(JB):          </th> <td>    0.00</td> \n",
       "</tr>\n",
       "<tr>\n",
       "  <th>Kurtosis:</th>      <td>35.293</td>  <th>  Cond. No.          </th> <td>1.16e+03</td> \n",
       "</tr>\n",
       "</table><br/><br/>Notes:<br/>[1] Standard Errors assume that the covariance matrix of the errors is correctly specified.<br/>[2] The condition number is large, 1.16e+03. This might indicate that there are<br/>strong multicollinearity or other numerical problems."
      ],
      "text/latex": [
       "\\begin{center}\n",
       "\\begin{tabular}{lclc}\n",
       "\\toprule\n",
       "\\textbf{Dep. Variable:}            &   loan\\_amount   & \\textbf{  R-squared:         } &     0.702   \\\\\n",
       "\\textbf{Model:}                    &       OLS        & \\textbf{  Adj. R-squared:    } &     0.702   \\\\\n",
       "\\textbf{Method:}                   &  Least Squares   & \\textbf{  F-statistic:       } &     935.1   \\\\\n",
       "\\textbf{Date:}                     & Thu, 07 Dec 2023 & \\textbf{  Prob (F-statistic):} &     0.00    \\\\\n",
       "\\textbf{Time:}                     &     00:15:03     & \\textbf{  Log-Likelihood:    } &   -10336.   \\\\\n",
       "\\textbf{No. Observations:}         &        1987      & \\textbf{  AIC:               } & 2.068e+04   \\\\\n",
       "\\textbf{Df Residuals:}             &        1981      & \\textbf{  BIC:               } & 2.072e+04   \\\\\n",
       "\\textbf{Df Model:}                 &           5      & \\textbf{                     } &             \\\\\n",
       "\\textbf{Covariance Type:}          &    nonrobust     & \\textbf{                     } &             \\\\\n",
       "\\bottomrule\n",
       "\\end{tabular}\n",
       "\\begin{tabular}{lcccccc}\n",
       "                                   & \\textbf{coef} & \\textbf{std err} & \\textbf{t} & \\textbf{P$> |$t$|$} & \\textbf{[0.025} & \\textbf{0.975]}  \\\\\n",
       "\\midrule\n",
       "\\textbf{Intercept}                 &      33.1604  &        4.133     &     8.023  &         0.000        &       25.054    &       41.266     \\\\\n",
       "\\textbf{married}                   &       5.8582  &        2.131     &     2.749  &         0.006        &        1.679    &       10.038     \\\\\n",
       "\\textbf{applicant\\_income}         &       0.0645  &        0.013     &     5.072  &         0.000        &        0.040    &        0.089     \\\\\n",
       "\\textbf{mortage\\_payment\\_history} &       0.9794  &        1.829     &     0.536  &         0.592        &       -2.607    &        4.566     \\\\\n",
       "\\textbf{purchase\\_price}           &       0.5017  &        0.009     &    56.646  &         0.000        &        0.484    &        0.519     \\\\\n",
       "\\textbf{filed\\_bankruptcy}         &       8.8855  &        3.910     &     2.272  &         0.023        &        1.217    &       16.554     \\\\\n",
       "\\bottomrule\n",
       "\\end{tabular}\n",
       "\\begin{tabular}{lclc}\n",
       "\\textbf{Omnibus:}       & 805.625 & \\textbf{  Durbin-Watson:     } &     1.982  \\\\\n",
       "\\textbf{Prob(Omnibus):} &   0.000 & \\textbf{  Jarque-Bera (JB):  } & 86617.783  \\\\\n",
       "\\textbf{Skew:}          &  -0.918 & \\textbf{  Prob(JB):          } &      0.00  \\\\\n",
       "\\textbf{Kurtosis:}      &  35.293 & \\textbf{  Cond. No.          } &  1.16e+03  \\\\\n",
       "\\bottomrule\n",
       "\\end{tabular}\n",
       "%\\caption{OLS Regression Results}\n",
       "\\end{center}\n",
       "\n",
       "Notes: \\newline\n",
       " [1] Standard Errors assume that the covariance matrix of the errors is correctly specified. \\newline\n",
       " [2] The condition number is large, 1.16e+03. This might indicate that there are \\newline\n",
       " strong multicollinearity or other numerical problems."
      ],
      "text/plain": [
       "<class 'statsmodels.iolib.summary.Summary'>\n",
       "\"\"\"\n",
       "                            OLS Regression Results                            \n",
       "==============================================================================\n",
       "Dep. Variable:            loan_amount   R-squared:                       0.702\n",
       "Model:                            OLS   Adj. R-squared:                  0.702\n",
       "Method:                 Least Squares   F-statistic:                     935.1\n",
       "Date:                Thu, 07 Dec 2023   Prob (F-statistic):               0.00\n",
       "Time:                        00:15:03   Log-Likelihood:                -10336.\n",
       "No. Observations:                1987   AIC:                         2.068e+04\n",
       "Df Residuals:                    1981   BIC:                         2.072e+04\n",
       "Df Model:                           5                                         \n",
       "Covariance Type:            nonrobust                                         \n",
       "===========================================================================================\n",
       "                              coef    std err          t      P>|t|      [0.025      0.975]\n",
       "-------------------------------------------------------------------------------------------\n",
       "Intercept                  33.1604      4.133      8.023      0.000      25.054      41.266\n",
       "married                     5.8582      2.131      2.749      0.006       1.679      10.038\n",
       "applicant_income            0.0645      0.013      5.072      0.000       0.040       0.089\n",
       "mortage_payment_history     0.9794      1.829      0.536      0.592      -2.607       4.566\n",
       "purchase_price              0.5017      0.009     56.646      0.000       0.484       0.519\n",
       "filed_bankruptcy            8.8855      3.910      2.272      0.023       1.217      16.554\n",
       "==============================================================================\n",
       "Omnibus:                      805.625   Durbin-Watson:                   1.982\n",
       "Prob(Omnibus):                  0.000   Jarque-Bera (JB):            86617.783\n",
       "Skew:                          -0.918   Prob(JB):                         0.00\n",
       "Kurtosis:                      35.293   Cond. No.                     1.16e+03\n",
       "==============================================================================\n",
       "\n",
       "Notes:\n",
       "[1] Standard Errors assume that the covariance matrix of the errors is correctly specified.\n",
       "[2] The condition number is large, 1.16e+03. This might indicate that there are\n",
       "strong multicollinearity or other numerical problems.\n",
       "\"\"\""
      ]
     },
     "execution_count": 38,
     "metadata": {},
     "output_type": "execute_result"
    }
   ],
   "source": [
    "model.summary()"
   ]
  },
  {
   "cell_type": "markdown",
   "id": "43c6fe09",
   "metadata": {},
   "source": [
    "<font color='blue'>Based on the indications on the coefficients, we may conclude that all the independant variables impact the loan_amount in a positive manner."
   ]
  },
  {
   "cell_type": "markdown",
   "id": "75998067",
   "metadata": {},
   "source": [
    "<font color='blue'>All the independent variables considered for the regression models are significant as the significance values for all are less than 0.05.  "
   ]
  },
  {
   "cell_type": "markdown",
   "id": "4498cb56",
   "metadata": {},
   "source": [
    "<font color='red'>$R^2$ value for the derived model is 0.705,it states that the independent variables accounts for 70% of the variation in the dependent variable."
   ]
  },
  {
   "cell_type": "markdown",
   "id": "97fd3bef",
   "metadata": {},
   "source": [
    "# Residual Analysis"
   ]
  },
  {
   "cell_type": "code",
   "execution_count": 39,
   "id": "02be1f0b",
   "metadata": {},
   "outputs": [
    {
     "name": "stdout",
     "output_type": "stream",
     "text": [
      "Proceeding with the residual analysis\n"
     ]
    }
   ],
   "source": [
    "'''Explaination:\n",
    "\n",
    "The residuals of regression are a key means of determining if a regression, \n",
    "whether simple or multiple, has achieved its purpose of explaining as much variance in a dependent variable \n",
    "as feasible while maintaining the underlying assumption.\n",
    "\n",
    "All residuals should, in theory, be tiny and unstructured, \n",
    "indicating that the regression analysis has succeeded \n",
    "in explaining the majority of the variance in the dependant variable.'''\n",
    "print('Proceeding with the residual analysis')"
   ]
  },
  {
   "cell_type": "code",
   "execution_count": 40,
   "id": "6b423656",
   "metadata": {},
   "outputs": [
    {
     "data": {
      "text/html": [
       "<style>\n",
       "        .bk-notebook-logo {\n",
       "            display: block;\n",
       "            width: 20px;\n",
       "            height: 20px;\n",
       "            background-image: url(data:image/png;base64,iVBORw0KGgoAAAANSUhEUgAAABQAAAAUCAYAAACNiR0NAAAABHNCSVQICAgIfAhkiAAAAAlwSFlzAAALEgAACxIB0t1+/AAAABx0RVh0U29mdHdhcmUAQWRvYmUgRmlyZXdvcmtzIENTNui8sowAAAOkSURBVDiNjZRtaJVlGMd/1/08zzln5zjP1LWcU9N0NkN8m2CYjpgQYQXqSs0I84OLIC0hkEKoPtiH3gmKoiJDU7QpLgoLjLIQCpEsNJ1vqUOdO7ppbuec5+V+rj4ctwzd8IIbbi6u+8f1539dt3A78eXC7QizUF7gyV1fD1Yqg4JWz84yffhm0qkFqBogB9rM8tZdtwVsPUhWhGcFJngGeWrPzHm5oaMmkfEg1usvLFyc8jLRqDOMru7AyC8saQr7GG7f5fvDeH7Ej8CM66nIF+8yngt6HWaKh7k49Soy9nXurCi1o3qUbS3zWfrYeQDTB/Qj6kX6Ybhw4B+bOYoLKCC9H3Nu/leUTZ1JdRWkkn2ldcCamzrcf47KKXdAJllSlxAOkRgyHsGC/zRday5Qld9DyoM4/q/rUoy/CXh3jzOu3bHUVZeU+DEn8FInkPBFlu3+nW3Nw0mk6vCDiWg8CeJaxEwuHS3+z5RgY+YBR6V1Z1nxSOfoaPa4LASWxxdNp+VWTk7+4vzaou8v8PN+xo+KY2xsw6une2frhw05CTYOmQvsEhjhWjn0bmXPjpE1+kplmmkP3suftwTubK9Vq22qKmrBhpY4jvd5afdRA3wGjFAgcnTK2s4hY0/GPNIb0nErGMCRxWOOX64Z8RAC4oCXdklmEvcL8o0BfkNK4lUg9HTl+oPlQxdNo3Mg4Nv175e/1LDGzZen30MEjRUtmXSfiTVu1kK8W4txyV6BMKlbgk3lMwYCiusNy9fVfvvwMxv8Ynl6vxoByANLTWplvuj/nF9m2+PDtt1eiHPBr1oIfhCChQMBw6Aw0UulqTKZdfVvfG7VcfIqLG9bcldL/+pdWTLxLUy8Qq38heUIjh4XlzZxzQm19lLFlr8vdQ97rjZVOLf8nclzckbcD4wxXMidpX30sFd37Fv/GtwwhzhxGVAprjbg0gCAEeIgwCZyTV2Z1REEW8O4py0wsjeloKoMr6iCY6dP92H6Vw/oTyICIthibxjm/DfN9lVz8IqtqKYLUXfoKVMVQVVJOElGjrnnUt9T9wbgp8AyYKaGlqingHZU/uG2NTZSVqwHQTWkx9hxjkpWDaCg6Ckj5qebgBVbT3V3NNXMSiWSDdGV3hrtzla7J+duwPOToIg42ChPQOQjspnSlp1V+Gjdged7+8UN5CRAV7a5EdFNwCjEaBR27b3W890TE7g24NAP/mMDXRWrGoFPQI9ls/MWO2dWFAar/xcOIImbbpA3zgAAAABJRU5ErkJggg==);\n",
       "        }\n",
       "    </style>\n",
       "    <div>\n",
       "        <a href=\"https://bokeh.org\" target=\"_blank\" class=\"bk-notebook-logo\"></a>\n",
       "        <span id=\"d01c6834-f013-421c-b737-4abbb7088d52\">Loading BokehJS ...</span>\n",
       "    </div>\n"
      ]
     },
     "metadata": {},
     "output_type": "display_data"
    },
    {
     "data": {
      "application/javascript": [
       "(function(root) {\n",
       "  function now() {\n",
       "    return new Date();\n",
       "  }\n",
       "\n",
       "  const force = true;\n",
       "\n",
       "  if (typeof root._bokeh_onload_callbacks === \"undefined\" || force === true) {\n",
       "    root._bokeh_onload_callbacks = [];\n",
       "    root._bokeh_is_loading = undefined;\n",
       "  }\n",
       "\n",
       "const JS_MIME_TYPE = 'application/javascript';\n",
       "  const HTML_MIME_TYPE = 'text/html';\n",
       "  const EXEC_MIME_TYPE = 'application/vnd.bokehjs_exec.v0+json';\n",
       "  const CLASS_NAME = 'output_bokeh rendered_html';\n",
       "\n",
       "  /**\n",
       "   * Render data to the DOM node\n",
       "   */\n",
       "  function render(props, node) {\n",
       "    const script = document.createElement(\"script\");\n",
       "    node.appendChild(script);\n",
       "  }\n",
       "\n",
       "  /**\n",
       "   * Handle when an output is cleared or removed\n",
       "   */\n",
       "  function handleClearOutput(event, handle) {\n",
       "    const cell = handle.cell;\n",
       "\n",
       "    const id = cell.output_area._bokeh_element_id;\n",
       "    const server_id = cell.output_area._bokeh_server_id;\n",
       "    // Clean up Bokeh references\n",
       "    if (id != null && id in Bokeh.index) {\n",
       "      Bokeh.index[id].model.document.clear();\n",
       "      delete Bokeh.index[id];\n",
       "    }\n",
       "\n",
       "    if (server_id !== undefined) {\n",
       "      // Clean up Bokeh references\n",
       "      const cmd_clean = \"from bokeh.io.state import curstate; print(curstate().uuid_to_server['\" + server_id + \"'].get_sessions()[0].document.roots[0]._id)\";\n",
       "      cell.notebook.kernel.execute(cmd_clean, {\n",
       "        iopub: {\n",
       "          output: function(msg) {\n",
       "            const id = msg.content.text.trim();\n",
       "            if (id in Bokeh.index) {\n",
       "              Bokeh.index[id].model.document.clear();\n",
       "              delete Bokeh.index[id];\n",
       "            }\n",
       "          }\n",
       "        }\n",
       "      });\n",
       "      // Destroy server and session\n",
       "      const cmd_destroy = \"import bokeh.io.notebook as ion; ion.destroy_server('\" + server_id + \"')\";\n",
       "      cell.notebook.kernel.execute(cmd_destroy);\n",
       "    }\n",
       "  }\n",
       "\n",
       "  /**\n",
       "   * Handle when a new output is added\n",
       "   */\n",
       "  function handleAddOutput(event, handle) {\n",
       "    const output_area = handle.output_area;\n",
       "    const output = handle.output;\n",
       "\n",
       "    // limit handleAddOutput to display_data with EXEC_MIME_TYPE content only\n",
       "    if ((output.output_type != \"display_data\") || (!Object.prototype.hasOwnProperty.call(output.data, EXEC_MIME_TYPE))) {\n",
       "      return\n",
       "    }\n",
       "\n",
       "    const toinsert = output_area.element.find(\".\" + CLASS_NAME.split(' ')[0]);\n",
       "\n",
       "    if (output.metadata[EXEC_MIME_TYPE][\"id\"] !== undefined) {\n",
       "      toinsert[toinsert.length - 1].firstChild.textContent = output.data[JS_MIME_TYPE];\n",
       "      // store reference to embed id on output_area\n",
       "      output_area._bokeh_element_id = output.metadata[EXEC_MIME_TYPE][\"id\"];\n",
       "    }\n",
       "    if (output.metadata[EXEC_MIME_TYPE][\"server_id\"] !== undefined) {\n",
       "      const bk_div = document.createElement(\"div\");\n",
       "      bk_div.innerHTML = output.data[HTML_MIME_TYPE];\n",
       "      const script_attrs = bk_div.children[0].attributes;\n",
       "      for (let i = 0; i < script_attrs.length; i++) {\n",
       "        toinsert[toinsert.length - 1].firstChild.setAttribute(script_attrs[i].name, script_attrs[i].value);\n",
       "        toinsert[toinsert.length - 1].firstChild.textContent = bk_div.children[0].textContent\n",
       "      }\n",
       "      // store reference to server id on output_area\n",
       "      output_area._bokeh_server_id = output.metadata[EXEC_MIME_TYPE][\"server_id\"];\n",
       "    }\n",
       "  }\n",
       "\n",
       "  function register_renderer(events, OutputArea) {\n",
       "\n",
       "    function append_mime(data, metadata, element) {\n",
       "      // create a DOM node to render to\n",
       "      const toinsert = this.create_output_subarea(\n",
       "        metadata,\n",
       "        CLASS_NAME,\n",
       "        EXEC_MIME_TYPE\n",
       "      );\n",
       "      this.keyboard_manager.register_events(toinsert);\n",
       "      // Render to node\n",
       "      const props = {data: data, metadata: metadata[EXEC_MIME_TYPE]};\n",
       "      render(props, toinsert[toinsert.length - 1]);\n",
       "      element.append(toinsert);\n",
       "      return toinsert\n",
       "    }\n",
       "\n",
       "    /* Handle when an output is cleared or removed */\n",
       "    events.on('clear_output.CodeCell', handleClearOutput);\n",
       "    events.on('delete.Cell', handleClearOutput);\n",
       "\n",
       "    /* Handle when a new output is added */\n",
       "    events.on('output_added.OutputArea', handleAddOutput);\n",
       "\n",
       "    /**\n",
       "     * Register the mime type and append_mime function with output_area\n",
       "     */\n",
       "    OutputArea.prototype.register_mime_type(EXEC_MIME_TYPE, append_mime, {\n",
       "      /* Is output safe? */\n",
       "      safe: true,\n",
       "      /* Index of renderer in `output_area.display_order` */\n",
       "      index: 0\n",
       "    });\n",
       "  }\n",
       "\n",
       "  // register the mime type if in Jupyter Notebook environment and previously unregistered\n",
       "  if (root.Jupyter !== undefined) {\n",
       "    const events = require('base/js/events');\n",
       "    const OutputArea = require('notebook/js/outputarea').OutputArea;\n",
       "\n",
       "    if (OutputArea.prototype.mime_types().indexOf(EXEC_MIME_TYPE) == -1) {\n",
       "      register_renderer(events, OutputArea);\n",
       "    }\n",
       "  }\n",
       "  if (typeof (root._bokeh_timeout) === \"undefined\" || force === true) {\n",
       "    root._bokeh_timeout = Date.now() + 5000;\n",
       "    root._bokeh_failed_load = false;\n",
       "  }\n",
       "\n",
       "  const NB_LOAD_WARNING = {'data': {'text/html':\n",
       "     \"<div style='background-color: #fdd'>\\n\"+\n",
       "     \"<p>\\n\"+\n",
       "     \"BokehJS does not appear to have successfully loaded. If loading BokehJS from CDN, this \\n\"+\n",
       "     \"may be due to a slow or bad network connection. Possible fixes:\\n\"+\n",
       "     \"</p>\\n\"+\n",
       "     \"<ul>\\n\"+\n",
       "     \"<li>re-rerun `output_notebook()` to attempt to load from CDN again, or</li>\\n\"+\n",
       "     \"<li>use INLINE resources instead, as so:</li>\\n\"+\n",
       "     \"</ul>\\n\"+\n",
       "     \"<code>\\n\"+\n",
       "     \"from bokeh.resources import INLINE\\n\"+\n",
       "     \"output_notebook(resources=INLINE)\\n\"+\n",
       "     \"</code>\\n\"+\n",
       "     \"</div>\"}};\n",
       "\n",
       "  function display_loaded() {\n",
       "    const el = document.getElementById(\"d01c6834-f013-421c-b737-4abbb7088d52\");\n",
       "    if (el != null) {\n",
       "      el.textContent = \"BokehJS is loading...\";\n",
       "    }\n",
       "    if (root.Bokeh !== undefined) {\n",
       "      if (el != null) {\n",
       "        el.textContent = \"BokehJS \" + root.Bokeh.version + \" successfully loaded.\";\n",
       "      }\n",
       "    } else if (Date.now() < root._bokeh_timeout) {\n",
       "      setTimeout(display_loaded, 100)\n",
       "    }\n",
       "  }\n",
       "\n",
       "  function run_callbacks() {\n",
       "    try {\n",
       "      root._bokeh_onload_callbacks.forEach(function(callback) {\n",
       "        if (callback != null)\n",
       "          callback();\n",
       "      });\n",
       "    } finally {\n",
       "      delete root._bokeh_onload_callbacks\n",
       "    }\n",
       "    console.debug(\"Bokeh: all callbacks have finished\");\n",
       "  }\n",
       "\n",
       "  function load_libs(css_urls, js_urls, callback) {\n",
       "    if (css_urls == null) css_urls = [];\n",
       "    if (js_urls == null) js_urls = [];\n",
       "\n",
       "    root._bokeh_onload_callbacks.push(callback);\n",
       "    if (root._bokeh_is_loading > 0) {\n",
       "      console.debug(\"Bokeh: BokehJS is being loaded, scheduling callback at\", now());\n",
       "      return null;\n",
       "    }\n",
       "    if (js_urls == null || js_urls.length === 0) {\n",
       "      run_callbacks();\n",
       "      return null;\n",
       "    }\n",
       "    console.debug(\"Bokeh: BokehJS not loaded, scheduling load and callback at\", now());\n",
       "    root._bokeh_is_loading = css_urls.length + js_urls.length;\n",
       "\n",
       "    function on_load() {\n",
       "      root._bokeh_is_loading--;\n",
       "      if (root._bokeh_is_loading === 0) {\n",
       "        console.debug(\"Bokeh: all BokehJS libraries/stylesheets loaded\");\n",
       "        run_callbacks()\n",
       "      }\n",
       "    }\n",
       "\n",
       "    function on_error(url) {\n",
       "      console.error(\"failed to load \" + url);\n",
       "    }\n",
       "\n",
       "    for (let i = 0; i < css_urls.length; i++) {\n",
       "      const url = css_urls[i];\n",
       "      const element = document.createElement(\"link\");\n",
       "      element.onload = on_load;\n",
       "      element.onerror = on_error.bind(null, url);\n",
       "      element.rel = \"stylesheet\";\n",
       "      element.type = \"text/css\";\n",
       "      element.href = url;\n",
       "      console.debug(\"Bokeh: injecting link tag for BokehJS stylesheet: \", url);\n",
       "      document.body.appendChild(element);\n",
       "    }\n",
       "\n",
       "    for (let i = 0; i < js_urls.length; i++) {\n",
       "      const url = js_urls[i];\n",
       "      const element = document.createElement('script');\n",
       "      element.onload = on_load;\n",
       "      element.onerror = on_error.bind(null, url);\n",
       "      element.async = false;\n",
       "      element.src = url;\n",
       "      console.debug(\"Bokeh: injecting script tag for BokehJS library: \", url);\n",
       "      document.head.appendChild(element);\n",
       "    }\n",
       "  };\n",
       "\n",
       "  function inject_raw_css(css) {\n",
       "    const element = document.createElement(\"style\");\n",
       "    element.appendChild(document.createTextNode(css));\n",
       "    document.body.appendChild(element);\n",
       "  }\n",
       "\n",
       "  const js_urls = [\"https://cdn.bokeh.org/bokeh/release/bokeh-3.2.1.min.js\", \"https://cdn.bokeh.org/bokeh/release/bokeh-gl-3.2.1.min.js\", \"https://cdn.bokeh.org/bokeh/release/bokeh-widgets-3.2.1.min.js\", \"https://cdn.bokeh.org/bokeh/release/bokeh-tables-3.2.1.min.js\", \"https://cdn.bokeh.org/bokeh/release/bokeh-mathjax-3.2.1.min.js\"];\n",
       "  const css_urls = [];\n",
       "\n",
       "  const inline_js = [    function(Bokeh) {\n",
       "      Bokeh.set_log_level(\"info\");\n",
       "    },\n",
       "function(Bokeh) {\n",
       "    }\n",
       "  ];\n",
       "\n",
       "  function run_inline_js() {\n",
       "    if (root.Bokeh !== undefined || force === true) {\n",
       "          for (let i = 0; i < inline_js.length; i++) {\n",
       "      inline_js[i].call(root, root.Bokeh);\n",
       "    }\n",
       "if (force === true) {\n",
       "        display_loaded();\n",
       "      }} else if (Date.now() < root._bokeh_timeout) {\n",
       "      setTimeout(run_inline_js, 100);\n",
       "    } else if (!root._bokeh_failed_load) {\n",
       "      console.log(\"Bokeh: BokehJS failed to load within specified timeout.\");\n",
       "      root._bokeh_failed_load = true;\n",
       "    } else if (force !== true) {\n",
       "      const cell = $(document.getElementById(\"d01c6834-f013-421c-b737-4abbb7088d52\")).parents('.cell').data().cell;\n",
       "      cell.output_area.append_execute_result(NB_LOAD_WARNING)\n",
       "    }\n",
       "  }\n",
       "\n",
       "  if (root._bokeh_is_loading === 0) {\n",
       "    console.debug(\"Bokeh: BokehJS loaded, going straight to plotting\");\n",
       "    run_inline_js();\n",
       "  } else {\n",
       "    load_libs(css_urls, js_urls, function() {\n",
       "      console.debug(\"Bokeh: BokehJS plotting callback run at\", now());\n",
       "      run_inline_js();\n",
       "    });\n",
       "  }\n",
       "}(window));"
      ],
      "application/vnd.bokehjs_load.v0+json": "(function(root) {\n  function now() {\n    return new Date();\n  }\n\n  const force = true;\n\n  if (typeof root._bokeh_onload_callbacks === \"undefined\" || force === true) {\n    root._bokeh_onload_callbacks = [];\n    root._bokeh_is_loading = undefined;\n  }\n\n\n  if (typeof (root._bokeh_timeout) === \"undefined\" || force === true) {\n    root._bokeh_timeout = Date.now() + 5000;\n    root._bokeh_failed_load = false;\n  }\n\n  const NB_LOAD_WARNING = {'data': {'text/html':\n     \"<div style='background-color: #fdd'>\\n\"+\n     \"<p>\\n\"+\n     \"BokehJS does not appear to have successfully loaded. If loading BokehJS from CDN, this \\n\"+\n     \"may be due to a slow or bad network connection. Possible fixes:\\n\"+\n     \"</p>\\n\"+\n     \"<ul>\\n\"+\n     \"<li>re-rerun `output_notebook()` to attempt to load from CDN again, or</li>\\n\"+\n     \"<li>use INLINE resources instead, as so:</li>\\n\"+\n     \"</ul>\\n\"+\n     \"<code>\\n\"+\n     \"from bokeh.resources import INLINE\\n\"+\n     \"output_notebook(resources=INLINE)\\n\"+\n     \"</code>\\n\"+\n     \"</div>\"}};\n\n  function display_loaded() {\n    const el = document.getElementById(\"d01c6834-f013-421c-b737-4abbb7088d52\");\n    if (el != null) {\n      el.textContent = \"BokehJS is loading...\";\n    }\n    if (root.Bokeh !== undefined) {\n      if (el != null) {\n        el.textContent = \"BokehJS \" + root.Bokeh.version + \" successfully loaded.\";\n      }\n    } else if (Date.now() < root._bokeh_timeout) {\n      setTimeout(display_loaded, 100)\n    }\n  }\n\n  function run_callbacks() {\n    try {\n      root._bokeh_onload_callbacks.forEach(function(callback) {\n        if (callback != null)\n          callback();\n      });\n    } finally {\n      delete root._bokeh_onload_callbacks\n    }\n    console.debug(\"Bokeh: all callbacks have finished\");\n  }\n\n  function load_libs(css_urls, js_urls, callback) {\n    if (css_urls == null) css_urls = [];\n    if (js_urls == null) js_urls = [];\n\n    root._bokeh_onload_callbacks.push(callback);\n    if (root._bokeh_is_loading > 0) {\n      console.debug(\"Bokeh: BokehJS is being loaded, scheduling callback at\", now());\n      return null;\n    }\n    if (js_urls == null || js_urls.length === 0) {\n      run_callbacks();\n      return null;\n    }\n    console.debug(\"Bokeh: BokehJS not loaded, scheduling load and callback at\", now());\n    root._bokeh_is_loading = css_urls.length + js_urls.length;\n\n    function on_load() {\n      root._bokeh_is_loading--;\n      if (root._bokeh_is_loading === 0) {\n        console.debug(\"Bokeh: all BokehJS libraries/stylesheets loaded\");\n        run_callbacks()\n      }\n    }\n\n    function on_error(url) {\n      console.error(\"failed to load \" + url);\n    }\n\n    for (let i = 0; i < css_urls.length; i++) {\n      const url = css_urls[i];\n      const element = document.createElement(\"link\");\n      element.onload = on_load;\n      element.onerror = on_error.bind(null, url);\n      element.rel = \"stylesheet\";\n      element.type = \"text/css\";\n      element.href = url;\n      console.debug(\"Bokeh: injecting link tag for BokehJS stylesheet: \", url);\n      document.body.appendChild(element);\n    }\n\n    for (let i = 0; i < js_urls.length; i++) {\n      const url = js_urls[i];\n      const element = document.createElement('script');\n      element.onload = on_load;\n      element.onerror = on_error.bind(null, url);\n      element.async = false;\n      element.src = url;\n      console.debug(\"Bokeh: injecting script tag for BokehJS library: \", url);\n      document.head.appendChild(element);\n    }\n  };\n\n  function inject_raw_css(css) {\n    const element = document.createElement(\"style\");\n    element.appendChild(document.createTextNode(css));\n    document.body.appendChild(element);\n  }\n\n  const js_urls = [\"https://cdn.bokeh.org/bokeh/release/bokeh-3.2.1.min.js\", \"https://cdn.bokeh.org/bokeh/release/bokeh-gl-3.2.1.min.js\", \"https://cdn.bokeh.org/bokeh/release/bokeh-widgets-3.2.1.min.js\", \"https://cdn.bokeh.org/bokeh/release/bokeh-tables-3.2.1.min.js\", \"https://cdn.bokeh.org/bokeh/release/bokeh-mathjax-3.2.1.min.js\"];\n  const css_urls = [];\n\n  const inline_js = [    function(Bokeh) {\n      Bokeh.set_log_level(\"info\");\n    },\nfunction(Bokeh) {\n    }\n  ];\n\n  function run_inline_js() {\n    if (root.Bokeh !== undefined || force === true) {\n          for (let i = 0; i < inline_js.length; i++) {\n      inline_js[i].call(root, root.Bokeh);\n    }\nif (force === true) {\n        display_loaded();\n      }} else if (Date.now() < root._bokeh_timeout) {\n      setTimeout(run_inline_js, 100);\n    } else if (!root._bokeh_failed_load) {\n      console.log(\"Bokeh: BokehJS failed to load within specified timeout.\");\n      root._bokeh_failed_load = true;\n    } else if (force !== true) {\n      const cell = $(document.getElementById(\"d01c6834-f013-421c-b737-4abbb7088d52\")).parents('.cell').data().cell;\n      cell.output_area.append_execute_result(NB_LOAD_WARNING)\n    }\n  }\n\n  if (root._bokeh_is_loading === 0) {\n    console.debug(\"Bokeh: BokehJS loaded, going straight to plotting\");\n    run_inline_js();\n  } else {\n    load_libs(css_urls, js_urls, function() {\n      console.debug(\"Bokeh: BokehJS plotting callback run at\", now());\n      run_inline_js();\n    });\n  }\n}(window));"
     },
     "metadata": {},
     "output_type": "display_data"
    }
   ],
   "source": [
    "#importing bokeh library to build visualization for the residual analysis\n",
    "from bokeh.plotting import figure\n",
    "from bokeh.io import show\n",
    "from bokeh.io import output_notebook\n",
    "output_notebook()"
   ]
  },
  {
   "cell_type": "code",
   "execution_count": 41,
   "id": "8ef4c916",
   "metadata": {},
   "outputs": [
    {
     "data": {
      "text/html": [
       "\n",
       "  <div id=\"d0a94264-8534-4986-a33d-51d1f603c8e7\" data-root-id=\"p1001\" style=\"display: contents;\"></div>\n"
      ]
     },
     "metadata": {},
     "output_type": "display_data"
    },
    {
     "data": {
      "application/javascript": [
       "(function(root) {\n",
       "  function embed_document(root) {\n",
       "  const docs_json = {\"c22f9c63-803a-4188-b870-6bdfd4bae3cc\":{\"version\":\"3.2.1\",\"title\":\"Bokeh Application\",\"roots\":[{\"type\":\"object\",\"name\":\"Figure\",\"id\":\"p1001\",\"attributes\":{\"width\":500,\"height\":250,\"x_range\":{\"type\":\"object\",\"name\":\"DataRange1d\",\"id\":\"p1002\"},\"y_range\":{\"type\":\"object\",\"name\":\"DataRange1d\",\"id\":\"p1003\"},\"x_scale\":{\"type\":\"object\",\"name\":\"LinearScale\",\"id\":\"p1010\"},\"y_scale\":{\"type\":\"object\",\"name\":\"LinearScale\",\"id\":\"p1011\"},\"title\":{\"type\":\"object\",\"name\":\"Title\",\"id\":\"p1008\"},\"renderers\":[{\"type\":\"object\",\"name\":\"GlyphRenderer\",\"id\":\"p1035\",\"attributes\":{\"data_source\":{\"type\":\"object\",\"name\":\"ColumnDataSource\",\"id\":\"p1029\",\"attributes\":{\"selected\":{\"type\":\"object\",\"name\":\"Selection\",\"id\":\"p1030\",\"attributes\":{\"indices\":[],\"line_indices\":[]}},\"selection_policy\":{\"type\":\"object\",\"name\":\"UnionRenderers\",\"id\":\"p1031\"},\"data\":{\"type\":\"map\",\"entries\":[[\"x\",{\"type\":\"ndarray\",\"array\":{\"type\":\"bytes\",\"data\":\"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\"},\"shape\":[1987],\"dtype\":\"float64\",\"order\":\"little\"}],[\"y\",{\"type\":\"ndarray\",\"array\":{\"type\":\"bytes\",\"data\":\"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\"},\"shape\":[1987],\"dtype\":\"float64\",\"order\":\"little\"}]]}}},\"view\":{\"type\":\"object\",\"name\":\"CDSView\",\"id\":\"p1036\",\"attributes\":{\"filter\":{\"type\":\"object\",\"name\":\"AllIndices\",\"id\":\"p1037\"}}},\"glyph\":{\"type\":\"object\",\"name\":\"Circle\",\"id\":\"p1032\",\"attributes\":{\"x\":{\"type\":\"field\",\"field\":\"x\"},\"y\":{\"type\":\"field\",\"field\":\"y\"},\"line_color\":{\"type\":\"value\",\"value\":\"#1f77b4\"},\"fill_color\":{\"type\":\"value\",\"value\":\"#1f77b4\"}}},\"nonselection_glyph\":{\"type\":\"object\",\"name\":\"Circle\",\"id\":\"p1033\",\"attributes\":{\"x\":{\"type\":\"field\",\"field\":\"x\"},\"y\":{\"type\":\"field\",\"field\":\"y\"},\"line_color\":{\"type\":\"value\",\"value\":\"#1f77b4\"},\"line_alpha\":{\"type\":\"value\",\"value\":0.1},\"fill_color\":{\"type\":\"value\",\"value\":\"#1f77b4\"},\"fill_alpha\":{\"type\":\"value\",\"value\":0.1},\"hatch_alpha\":{\"type\":\"value\",\"value\":0.1}}},\"muted_glyph\":{\"type\":\"object\",\"name\":\"Circle\",\"id\":\"p1034\",\"attributes\":{\"x\":{\"type\":\"field\",\"field\":\"x\"},\"y\":{\"type\":\"field\",\"field\":\"y\"},\"line_color\":{\"type\":\"value\",\"value\":\"#1f77b4\"},\"line_alpha\":{\"type\":\"value\",\"value\":0.2},\"fill_color\":{\"type\":\"value\",\"value\":\"#1f77b4\"},\"fill_alpha\":{\"type\":\"value\",\"value\":0.2},\"hatch_alpha\":{\"type\":\"value\",\"value\":0.2}}}}}],\"toolbar\":{\"type\":\"object\",\"name\":\"Toolbar\",\"id\":\"p1009\",\"attributes\":{\"tools\":[{\"type\":\"object\",\"name\":\"PanTool\",\"id\":\"p1022\"},{\"type\":\"object\",\"name\":\"WheelZoomTool\",\"id\":\"p1023\"},{\"type\":\"object\",\"name\":\"BoxZoomTool\",\"id\":\"p1024\",\"attributes\":{\"overlay\":{\"type\":\"object\",\"name\":\"BoxAnnotation\",\"id\":\"p1025\",\"attributes\":{\"syncable\":false,\"level\":\"overlay\",\"visible\":false,\"left_units\":\"canvas\",\"right_units\":\"canvas\",\"bottom_units\":\"canvas\",\"top_units\":\"canvas\",\"line_color\":\"black\",\"line_alpha\":1.0,\"line_width\":2,\"line_dash\":[4,4],\"fill_color\":\"lightgrey\",\"fill_alpha\":0.5}}}},{\"type\":\"object\",\"name\":\"SaveTool\",\"id\":\"p1026\"},{\"type\":\"object\",\"name\":\"ResetTool\",\"id\":\"p1027\"},{\"type\":\"object\",\"name\":\"HelpTool\",\"id\":\"p1028\"}]}},\"left\":[{\"type\":\"object\",\"name\":\"LinearAxis\",\"id\":\"p1017\",\"attributes\":{\"ticker\":{\"type\":\"object\",\"name\":\"BasicTicker\",\"id\":\"p1018\",\"attributes\":{\"mantissas\":[1,2,5]}},\"formatter\":{\"type\":\"object\",\"name\":\"BasicTickFormatter\",\"id\":\"p1019\"},\"major_label_policy\":{\"type\":\"object\",\"name\":\"AllLabels\",\"id\":\"p1020\"}}}],\"below\":[{\"type\":\"object\",\"name\":\"LinearAxis\",\"id\":\"p1012\",\"attributes\":{\"ticker\":{\"type\":\"object\",\"name\":\"BasicTicker\",\"id\":\"p1013\",\"attributes\":{\"mantissas\":[1,2,5]}},\"formatter\":{\"type\":\"object\",\"name\":\"BasicTickFormatter\",\"id\":\"p1014\"},\"major_label_policy\":{\"type\":\"object\",\"name\":\"AllLabels\",\"id\":\"p1015\"}}}],\"center\":[{\"type\":\"object\",\"name\":\"Grid\",\"id\":\"p1016\",\"attributes\":{\"axis\":{\"id\":\"p1012\"}}},{\"type\":\"object\",\"name\":\"Grid\",\"id\":\"p1021\",\"attributes\":{\"dimension\":1,\"axis\":{\"id\":\"p1017\"}}}]}}]}};\n",
       "  const render_items = [{\"docid\":\"c22f9c63-803a-4188-b870-6bdfd4bae3cc\",\"roots\":{\"p1001\":\"d0a94264-8534-4986-a33d-51d1f603c8e7\"},\"root_ids\":[\"p1001\"]}];\n",
       "  root.Bokeh.embed.embed_items_notebook(docs_json, render_items);\n",
       "  }\n",
       "  if (root.Bokeh !== undefined) {\n",
       "    embed_document(root);\n",
       "  } else {\n",
       "    let attempts = 0;\n",
       "    const timer = setInterval(function(root) {\n",
       "      if (root.Bokeh !== undefined) {\n",
       "        clearInterval(timer);\n",
       "        embed_document(root);\n",
       "      } else {\n",
       "        attempts++;\n",
       "        if (attempts > 100) {\n",
       "          clearInterval(timer);\n",
       "          console.log(\"Bokeh: ERROR: Unable to run BokehJS code because BokehJS library is missing\");\n",
       "        }\n",
       "      }\n",
       "    }, 10, root)\n",
       "  }\n",
       "})(window);"
      ],
      "application/vnd.bokehjs_exec.v0+json": ""
     },
     "metadata": {
      "application/vnd.bokehjs_exec.v0+json": {
       "id": "p1001"
      }
     },
     "output_type": "display_data"
    }
   ],
   "source": [
    "residual_graph = figure(height=250, width=500)\n",
    "# X axis is the predicted standardized values\n",
    "# Y axis is the standardized residuals values\n",
    "#Calculating the influence and outlier measures by taking the fitted values and residuals values.\n",
    "st_resids = model.get_influence().resid_studentized_internal\n",
    "residual_graph.circle(model.fittedvalues, st_resids)\n",
    "show(residual_graph)"
   ]
  },
  {
   "cell_type": "code",
   "execution_count": 42,
   "id": "58c94e0e",
   "metadata": {},
   "outputs": [],
   "source": [
    "import numpy as np\n",
    "\n",
    "# create a histogram with 40 bins\n",
    "hist, edges = np.histogram(st_resids, bins=40)"
   ]
  },
  {
   "cell_type": "code",
   "execution_count": 43,
   "id": "fe59a874",
   "metadata": {},
   "outputs": [
    {
     "data": {
      "text/html": [
       "\n",
       "  <div id=\"b404e757-acc8-40a1-a16e-2b2cefa386e8\" data-root-id=\"p1040\" style=\"display: contents;\"></div>\n"
      ]
     },
     "metadata": {},
     "output_type": "display_data"
    },
    {
     "data": {
      "application/javascript": [
       "(function(root) {\n",
       "  function embed_document(root) {\n",
       "  const docs_json = {\"e57267ae-74ee-4a15-b762-4fce9918687d\":{\"version\":\"3.2.1\",\"title\":\"Bokeh Application\",\"roots\":[{\"type\":\"object\",\"name\":\"Figure\",\"id\":\"p1040\",\"attributes\":{\"width\":500,\"height\":250,\"x_range\":{\"type\":\"object\",\"name\":\"DataRange1d\",\"id\":\"p1041\"},\"y_range\":{\"type\":\"object\",\"name\":\"DataRange1d\",\"id\":\"p1042\"},\"x_scale\":{\"type\":\"object\",\"name\":\"LinearScale\",\"id\":\"p1049\"},\"y_scale\":{\"type\":\"object\",\"name\":\"LinearScale\",\"id\":\"p1050\"},\"title\":{\"type\":\"object\",\"name\":\"Title\",\"id\":\"p1047\"},\"renderers\":[{\"type\":\"object\",\"name\":\"GlyphRenderer\",\"id\":\"p1074\",\"attributes\":{\"data_source\":{\"type\":\"object\",\"name\":\"ColumnDataSource\",\"id\":\"p1068\",\"attributes\":{\"selected\":{\"type\":\"object\",\"name\":\"Selection\",\"id\":\"p1069\",\"attributes\":{\"indices\":[],\"line_indices\":[]}},\"selection_policy\":{\"type\":\"object\",\"name\":\"UnionRenderers\",\"id\":\"p1070\"},\"data\":{\"type\":\"map\",\"entries\":[[\"top\",{\"type\":\"ndarray\",\"array\":{\"type\":\"bytes\",\"data\":\"AQAAAAAAAAAAAAAAAAAAAAAAAAAAAAAAAAAAAAEAAAAAAAAAAAAAAAAAAAAAAAAAAgAAAAAAAAAGAAAACAAAAAoAAAAiAAAASgAAAL0AAACFAgAA2QIAAMkAAAAyAAAAEgAAAAwAAAABAAAABAAAAAEAAAAAAAAAAAAAAAAAAAAAAAAAAAAAAAAAAAAAAAAAAAAAAAAAAAAAAAAAAQAAAA==\"},\"shape\":[40],\"dtype\":\"int32\",\"order\":\"little\"}],[\"left\",{\"type\":\"ndarray\",\"array\":{\"type\":\"bytes\",\"data\":\"qxvtosU7K8AVuHmf0e4pwH5UBpzdoSjA6PCSmOlUJ8BSjR+V9QcmwLsprJEBuyTAJcY4jg1uI8COYsWKGSEiwPj+UYcl1CDAwza9B2MOH8CWb9YAe3QcwGqo7/mS2hnAPeEI86pAF8AQGiLswqYUwORSO+XaDBLAbBepvOXlDsAUiduuFbIJwLz6DaFFfgTAwNiAJuuU/r8QvOUKSy30v7A+ld5Vi+O/AKsPiqU+pD8QNNePKhPmP8C2hmM1cfU/cNMhf9XY/z8UeF7NOiAFQGwGLNsKVApAxJT56NqHD0COkWN71V0SQLpYSoK99xRA6h8xiaWRF0AW5xeQjSsaQEKu/pZ1xRxAbnXlnV1fH0BNHmbSovwgQOWB2dWWSSJAe+VM2YqWI0ARScDcfuMkQKesM+ByMCZAPRCn42Z9J0A=\"},\"shape\":[40],\"dtype\":\"float64\",\"order\":\"little\"}],[\"right\",{\"type\":\"ndarray\",\"array\":{\"type\":\"bytes\",\"data\":\"Fbh5n9HuKcB+VAac3aEowOjwkpjpVCfAUo0flfUHJsC7KayRAbskwCXGOI4NbiPAjmLFihkhIsD4/lGHJdQgwMM2vQdjDh/Alm/WAHt0HMBqqO/5ktoZwD3hCPOqQBfAEBoi7MKmFMDkUjvl2gwSwGwXqbzl5Q7AFInbrhWyCcC8+g2hRX4EwMDYgCbrlP6/ELzlCkst9L+wPpXeVYvjvwCrD4qlPqQ/EDTXjyoT5j/AtoZjNXH1P3DTIX/V2P8/FHhezTogBUBsBizbClQKQMSU+ejahw9AjpFje9VdEkC6WEqCvfcUQOofMYmlkRdAFucXkI0rGkBCrv6WdcUcQG515Z1dXx9ATR5m0qL8IEDlgdnVlkkiQHvlTNmKliNAEUnA3H7jJECnrDPgcjAmQD0Qp+NmfSdA1HMa51rKKEA=\"},\"shape\":[40],\"dtype\":\"float64\",\"order\":\"little\"}]]}}},\"view\":{\"type\":\"object\",\"name\":\"CDSView\",\"id\":\"p1075\",\"attributes\":{\"filter\":{\"type\":\"object\",\"name\":\"AllIndices\",\"id\":\"p1076\"}}},\"glyph\":{\"type\":\"object\",\"name\":\"Quad\",\"id\":\"p1071\",\"attributes\":{\"left\":{\"type\":\"field\",\"field\":\"left\"},\"right\":{\"type\":\"field\",\"field\":\"right\"},\"bottom\":{\"type\":\"value\",\"value\":0},\"top\":{\"type\":\"field\",\"field\":\"top\"},\"line_color\":{\"type\":\"value\",\"value\":\"white\"},\"fill_color\":{\"type\":\"value\",\"value\":\"#1f77b4\"}}},\"nonselection_glyph\":{\"type\":\"object\",\"name\":\"Quad\",\"id\":\"p1072\",\"attributes\":{\"left\":{\"type\":\"field\",\"field\":\"left\"},\"right\":{\"type\":\"field\",\"field\":\"right\"},\"bottom\":{\"type\":\"value\",\"value\":0},\"top\":{\"type\":\"field\",\"field\":\"top\"},\"line_color\":{\"type\":\"value\",\"value\":\"white\"},\"line_alpha\":{\"type\":\"value\",\"value\":0.1},\"fill_color\":{\"type\":\"value\",\"value\":\"#1f77b4\"},\"fill_alpha\":{\"type\":\"value\",\"value\":0.1},\"hatch_alpha\":{\"type\":\"value\",\"value\":0.1}}},\"muted_glyph\":{\"type\":\"object\",\"name\":\"Quad\",\"id\":\"p1073\",\"attributes\":{\"left\":{\"type\":\"field\",\"field\":\"left\"},\"right\":{\"type\":\"field\",\"field\":\"right\"},\"bottom\":{\"type\":\"value\",\"value\":0},\"top\":{\"type\":\"field\",\"field\":\"top\"},\"line_color\":{\"type\":\"value\",\"value\":\"white\"},\"line_alpha\":{\"type\":\"value\",\"value\":0.2},\"fill_color\":{\"type\":\"value\",\"value\":\"#1f77b4\"},\"fill_alpha\":{\"type\":\"value\",\"value\":0.2},\"hatch_alpha\":{\"type\":\"value\",\"value\":0.2}}}}}],\"toolbar\":{\"type\":\"object\",\"name\":\"Toolbar\",\"id\":\"p1048\",\"attributes\":{\"tools\":[{\"type\":\"object\",\"name\":\"PanTool\",\"id\":\"p1061\"},{\"type\":\"object\",\"name\":\"WheelZoomTool\",\"id\":\"p1062\"},{\"type\":\"object\",\"name\":\"BoxZoomTool\",\"id\":\"p1063\",\"attributes\":{\"overlay\":{\"type\":\"object\",\"name\":\"BoxAnnotation\",\"id\":\"p1064\",\"attributes\":{\"syncable\":false,\"level\":\"overlay\",\"visible\":false,\"left_units\":\"canvas\",\"right_units\":\"canvas\",\"bottom_units\":\"canvas\",\"top_units\":\"canvas\",\"line_color\":\"black\",\"line_alpha\":1.0,\"line_width\":2,\"line_dash\":[4,4],\"fill_color\":\"lightgrey\",\"fill_alpha\":0.5}}}},{\"type\":\"object\",\"name\":\"SaveTool\",\"id\":\"p1065\"},{\"type\":\"object\",\"name\":\"ResetTool\",\"id\":\"p1066\"},{\"type\":\"object\",\"name\":\"HelpTool\",\"id\":\"p1067\"}]}},\"left\":[{\"type\":\"object\",\"name\":\"LinearAxis\",\"id\":\"p1056\",\"attributes\":{\"ticker\":{\"type\":\"object\",\"name\":\"BasicTicker\",\"id\":\"p1057\",\"attributes\":{\"mantissas\":[1,2,5]}},\"formatter\":{\"type\":\"object\",\"name\":\"BasicTickFormatter\",\"id\":\"p1058\"},\"major_label_policy\":{\"type\":\"object\",\"name\":\"AllLabels\",\"id\":\"p1059\"}}}],\"below\":[{\"type\":\"object\",\"name\":\"LinearAxis\",\"id\":\"p1051\",\"attributes\":{\"ticker\":{\"type\":\"object\",\"name\":\"BasicTicker\",\"id\":\"p1052\",\"attributes\":{\"mantissas\":[1,2,5]}},\"formatter\":{\"type\":\"object\",\"name\":\"BasicTickFormatter\",\"id\":\"p1053\"},\"major_label_policy\":{\"type\":\"object\",\"name\":\"AllLabels\",\"id\":\"p1054\"}}}],\"center\":[{\"type\":\"object\",\"name\":\"Grid\",\"id\":\"p1055\",\"attributes\":{\"axis\":{\"id\":\"p1051\"}}},{\"type\":\"object\",\"name\":\"Grid\",\"id\":\"p1060\",\"attributes\":{\"dimension\":1,\"axis\":{\"id\":\"p1056\"}}}]}}]}};\n",
       "  const render_items = [{\"docid\":\"e57267ae-74ee-4a15-b762-4fce9918687d\",\"roots\":{\"p1040\":\"b404e757-acc8-40a1-a16e-2b2cefa386e8\"},\"root_ids\":[\"p1040\"]}];\n",
       "  root.Bokeh.embed.embed_items_notebook(docs_json, render_items);\n",
       "  }\n",
       "  if (root.Bokeh !== undefined) {\n",
       "    embed_document(root);\n",
       "  } else {\n",
       "    let attempts = 0;\n",
       "    const timer = setInterval(function(root) {\n",
       "      if (root.Bokeh !== undefined) {\n",
       "        clearInterval(timer);\n",
       "        embed_document(root);\n",
       "      } else {\n",
       "        attempts++;\n",
       "        if (attempts > 100) {\n",
       "          clearInterval(timer);\n",
       "          console.log(\"Bokeh: ERROR: Unable to run BokehJS code because BokehJS library is missing\");\n",
       "        }\n",
       "      }\n",
       "    }, 10, root)\n",
       "  }\n",
       "})(window);"
      ],
      "application/vnd.bokehjs_exec.v0+json": ""
     },
     "metadata": {
      "application/vnd.bokehjs_exec.v0+json": {
       "id": "p1040"
      }
     },
     "output_type": "display_data"
    }
   ],
   "source": [
    "#plotting normal distribution of residual to check whether they are normally distributed\n",
    "normal_distribution = figure(height=250, width=500)\n",
    "normal_distribution.quad(top=hist, bottom=0, left=edges[:-1], right=edges[1:], line_color=\"white\")\n",
    "show(normal_distribution)"
   ]
  },
  {
   "cell_type": "markdown",
   "id": "25170d0d",
   "metadata": {},
   "source": [
    "## Assumption1- Zero means of Errors\n",
    "We can see from the above graph that the residuals are uniformly distributed i.e equally present above and beloww 0.\n",
    "## Assumption2- Normally distribution of errors\n",
    "THe graph looks to be normally distributed but Jarque-Bera test on the residuals shows that errors are not distributed normally as the p-value equals 0.000. Hence we reject the null hypothesis and say that residuals are not normally distributed."
   ]
  }
 ],
 "metadata": {
  "kernelspec": {
   "display_name": "Python 3 (ipykernel)",
   "language": "python",
   "name": "python3"
  },
  "language_info": {
   "codemirror_mode": {
    "name": "ipython",
    "version": 3
   },
   "file_extension": ".py",
   "mimetype": "text/x-python",
   "name": "python",
   "nbconvert_exporter": "python",
   "pygments_lexer": "ipython3",
   "version": "3.11.5"
  }
 },
 "nbformat": 4,
 "nbformat_minor": 5
}
